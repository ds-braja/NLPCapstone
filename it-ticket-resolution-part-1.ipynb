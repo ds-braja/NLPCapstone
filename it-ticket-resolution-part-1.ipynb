{
 "cells": [
  {
   "cell_type": "code",
   "execution_count": 1,
   "id": "32e5c55b",
   "metadata": {
    "execution": {
     "iopub.execute_input": "2021-08-02T12:46:15.588515Z",
     "iopub.status.busy": "2021-08-02T12:46:15.587251Z",
     "iopub.status.idle": "2021-08-02T12:46:33.987102Z",
     "shell.execute_reply": "2021-08-02T12:46:33.986311Z"
    },
    "papermill": {
     "duration": 18.478101,
     "end_time": "2021-08-02T12:46:33.987318",
     "exception": false,
     "start_time": "2021-08-02T12:46:15.509217",
     "status": "completed"
    },
    "tags": []
   },
   "outputs": [
    {
     "name": "stdout",
     "output_type": "stream",
     "text": [
      "\u001b[33mWARNING: Running pip as root will break packages and permissions. You should install packages reliably by using venv: https://pip.pypa.io/warnings/venv\u001b[0m\n",
      "\u001b[33mWARNING: Running pip as root will break packages and permissions. You should install packages reliably by using venv: https://pip.pypa.io/warnings/venv\u001b[0m\n"
     ]
    }
   ],
   "source": [
    "!pip install xlrd -q\n",
    "!pip install openpyxl -q"
   ]
  },
  {
   "cell_type": "code",
   "execution_count": 2,
   "id": "fd1232cf",
   "metadata": {
    "execution": {
     "iopub.execute_input": "2021-08-02T12:46:34.150342Z",
     "iopub.status.busy": "2021-08-02T12:46:34.149500Z",
     "iopub.status.idle": "2021-08-02T12:46:36.653925Z",
     "shell.execute_reply": "2021-08-02T12:46:36.653296Z"
    },
    "papermill": {
     "duration": 2.589445,
     "end_time": "2021-08-02T12:46:36.654083",
     "exception": false,
     "start_time": "2021-08-02T12:46:34.064638",
     "status": "completed"
    },
    "tags": []
   },
   "outputs": [
    {
     "name": "stderr",
     "output_type": "stream",
     "text": [
      "/opt/conda/lib/python3.7/site-packages/sklearn/utils/deprecation.py:143: FutureWarning: The sklearn.metrics.classification module is  deprecated in version 0.22 and will be removed in version 0.24. The corresponding classes / functions should instead be imported from sklearn.metrics. Anything that cannot be imported from sklearn.metrics is now part of the private API.\n",
      "  warnings.warn(message, FutureWarning)\n"
     ]
    }
   ],
   "source": [
    "import pandas as pd\n",
    "import numpy as np\n",
    "import seaborn as sns\n",
    "import pickle\n",
    "import sklearn\n",
    "import re\n",
    "import matplotlib.pyplot as plt\n",
    "from nltk.corpus import stopwords\n",
    "from nltk.stem import WordNetLemmatizer\n",
    "from sklearn.feature_extraction.text import TfidfVectorizer\n",
    "from sklearn.feature_extraction.text import CountVectorizer\n",
    "from sklearn.model_selection import train_test_split\n",
    "from sklearn.metrics.classification import accuracy_score, log_loss,confusion_matrix\n",
    "from sklearn import metrics\n",
    "from sklearn.linear_model import LogisticRegression\n",
    "from sklearn.svm import LinearSVC\n",
    "from sklearn.ensemble import RandomForestClassifier\n",
    "from sklearn.neural_network import MLPClassifier\n",
    "from sklearn.pipeline import Pipeline\n",
    "from sklearn.model_selection import GridSearchCV\n",
    "from xgboost import XGBClassifier\n"
   ]
  },
  {
   "cell_type": "code",
   "execution_count": 3,
   "id": "d82bc639",
   "metadata": {
    "execution": {
     "iopub.execute_input": "2021-08-02T12:46:36.819956Z",
     "iopub.status.busy": "2021-08-02T12:46:36.812721Z",
     "iopub.status.idle": "2021-08-02T12:46:37.091543Z",
     "shell.execute_reply": "2021-08-02T12:46:37.092109Z",
     "shell.execute_reply.started": "2021-08-02T12:36:07.895821Z"
    },
    "id": "75v3Ft_pE6uH",
    "outputId": "e931b9e6-4c80-470d-d97a-4ea7ada31d03",
    "papermill": {
     "duration": 0.361877,
     "end_time": "2021-08-02T12:46:37.092290",
     "exception": false,
     "start_time": "2021-08-02T12:46:36.730413",
     "status": "completed"
    },
    "tags": []
   },
   "outputs": [
    {
     "name": "stdout",
     "output_type": "stream",
     "text": [
      "[nltk_data] Downloading package stopwords to /usr/share/nltk_data...\n",
      "[nltk_data]   Package stopwords is already up-to-date!\n",
      "[nltk_data] Downloading package wordnet to /usr/share/nltk_data...\n",
      "[nltk_data]   Package wordnet is already up-to-date!\n",
      "[nltk_data] Downloading package punkt to /usr/share/nltk_data...\n",
      "[nltk_data]   Package punkt is already up-to-date!\n"
     ]
    },
    {
     "data": {
      "text/plain": [
       "True"
      ]
     },
     "execution_count": 3,
     "metadata": {},
     "output_type": "execute_result"
    }
   ],
   "source": [
    "import nltk\n",
    "nltk.download('stopwords')\n",
    "nltk.download('wordnet')\n",
    "nltk.download('punkt')"
   ]
  },
  {
   "cell_type": "markdown",
   "id": "a4232666",
   "metadata": {
    "id": "BAezitaj61EV",
    "papermill": {
     "duration": 0.075978,
     "end_time": "2021-08-02T12:46:37.246128",
     "exception": false,
     "start_time": "2021-08-02T12:46:37.170150",
     "status": "completed"
    },
    "tags": []
   },
   "source": [
    "### Load data"
   ]
  },
  {
   "cell_type": "code",
   "execution_count": 4,
   "id": "d8f23a3a",
   "metadata": {
    "execution": {
     "iopub.execute_input": "2021-08-02T12:46:37.404127Z",
     "iopub.status.busy": "2021-08-02T12:46:37.403025Z",
     "iopub.status.idle": "2021-08-02T12:46:37.406509Z",
     "shell.execute_reply": "2021-08-02T12:46:37.405865Z",
     "shell.execute_reply.started": "2021-08-02T12:36:07.910963Z"
    },
    "papermill": {
     "duration": 0.084296,
     "end_time": "2021-08-02T12:46:37.406655",
     "exception": false,
     "start_time": "2021-08-02T12:46:37.322359",
     "status": "completed"
    },
    "tags": []
   },
   "outputs": [],
   "source": [
    "data_path = '../input/automatic-ticket-assignment-using-nlp/Automatic Ticket Assignment.xlsx'"
   ]
  },
  {
   "cell_type": "code",
   "execution_count": 5,
   "id": "61d53199",
   "metadata": {
    "execution": {
     "iopub.execute_input": "2021-08-02T12:46:37.563623Z",
     "iopub.status.busy": "2021-08-02T12:46:37.562971Z",
     "iopub.status.idle": "2021-08-02T12:46:39.036227Z",
     "shell.execute_reply": "2021-08-02T12:46:39.036768Z",
     "shell.execute_reply.started": "2021-08-02T12:36:07.921435Z"
    },
    "id": "yxOwy6TSnPwr",
    "papermill": {
     "duration": 1.553198,
     "end_time": "2021-08-02T12:46:39.036989",
     "exception": false,
     "start_time": "2021-08-02T12:46:37.483791",
     "status": "completed"
    },
    "tags": []
   },
   "outputs": [],
   "source": [
    "# Load the data from excel\n",
    "data = pd.read_excel(data_path, 'Sheet1')"
   ]
  },
  {
   "cell_type": "code",
   "execution_count": 6,
   "id": "413c330f",
   "metadata": {
    "execution": {
     "iopub.execute_input": "2021-08-02T12:46:39.196395Z",
     "iopub.status.busy": "2021-08-02T12:46:39.195628Z",
     "iopub.status.idle": "2021-08-02T12:46:39.208096Z",
     "shell.execute_reply": "2021-08-02T12:46:39.208554Z",
     "shell.execute_reply.started": "2021-08-02T12:36:09.439129Z"
    },
    "id": "X6KgBXvEgssh",
    "outputId": "56f06b5f-d8d5-4178-b9ca-3cdd9e3d1b1a",
    "papermill": {
     "duration": 0.093625,
     "end_time": "2021-08-02T12:46:39.208744",
     "exception": false,
     "start_time": "2021-08-02T12:46:39.115119",
     "status": "completed"
    },
    "tags": []
   },
   "outputs": [
    {
     "data": {
      "text/plain": [
       "'unable to open payslips '"
      ]
     },
     "execution_count": 6,
     "metadata": {},
     "output_type": "execute_result"
    }
   ],
   "source": [
    "# read one description\n",
    "data['Description'][14]"
   ]
  },
  {
   "cell_type": "code",
   "execution_count": 7,
   "id": "7a7c855c",
   "metadata": {
    "execution": {
     "iopub.execute_input": "2021-08-02T12:46:39.366690Z",
     "iopub.status.busy": "2021-08-02T12:46:39.365935Z",
     "iopub.status.idle": "2021-08-02T12:46:39.385215Z",
     "shell.execute_reply": "2021-08-02T12:46:39.385680Z",
     "shell.execute_reply.started": "2021-08-02T12:36:09.450843Z"
    },
    "id": "V6YgaVssno3k",
    "outputId": "af9409eb-63c2-4f2b-80c1-74b81ba35d29",
    "papermill": {
     "duration": 0.099169,
     "end_time": "2021-08-02T12:46:39.385864",
     "exception": false,
     "start_time": "2021-08-02T12:46:39.286695",
     "status": "completed"
    },
    "tags": []
   },
   "outputs": [
    {
     "data": {
      "text/html": [
       "<div>\n",
       "<style scoped>\n",
       "    .dataframe tbody tr th:only-of-type {\n",
       "        vertical-align: middle;\n",
       "    }\n",
       "\n",
       "    .dataframe tbody tr th {\n",
       "        vertical-align: top;\n",
       "    }\n",
       "\n",
       "    .dataframe thead th {\n",
       "        text-align: right;\n",
       "    }\n",
       "</style>\n",
       "<table border=\"1\" class=\"dataframe\">\n",
       "  <thead>\n",
       "    <tr style=\"text-align: right;\">\n",
       "      <th></th>\n",
       "      <th>Short description</th>\n",
       "      <th>Description</th>\n",
       "      <th>Caller</th>\n",
       "      <th>Assignment group</th>\n",
       "    </tr>\n",
       "  </thead>\n",
       "  <tbody>\n",
       "    <tr>\n",
       "      <th>0</th>\n",
       "      <td>login issue</td>\n",
       "      <td>-verified user details.(employee# &amp; manager na...</td>\n",
       "      <td>spxjnwir pjlcoqds</td>\n",
       "      <td>GRP_0</td>\n",
       "    </tr>\n",
       "    <tr>\n",
       "      <th>1</th>\n",
       "      <td>outlook</td>\n",
       "      <td>_x000D_\\n_x000D_\\nreceived from: hmjdrvpb.komu...</td>\n",
       "      <td>hmjdrvpb komuaywn</td>\n",
       "      <td>GRP_0</td>\n",
       "    </tr>\n",
       "    <tr>\n",
       "      <th>2</th>\n",
       "      <td>cant log in to vpn</td>\n",
       "      <td>_x000D_\\n_x000D_\\nreceived from: eylqgodm.ybqk...</td>\n",
       "      <td>eylqgodm ybqkwiam</td>\n",
       "      <td>GRP_0</td>\n",
       "    </tr>\n",
       "    <tr>\n",
       "      <th>3</th>\n",
       "      <td>unable to access hr_tool page</td>\n",
       "      <td>unable to access hr_tool page</td>\n",
       "      <td>xbkucsvz gcpydteq</td>\n",
       "      <td>GRP_0</td>\n",
       "    </tr>\n",
       "    <tr>\n",
       "      <th>4</th>\n",
       "      <td>skype error</td>\n",
       "      <td>skype error</td>\n",
       "      <td>owlgqjme qhcozdfx</td>\n",
       "      <td>GRP_0</td>\n",
       "    </tr>\n",
       "  </tbody>\n",
       "</table>\n",
       "</div>"
      ],
      "text/plain": [
       "               Short description  \\\n",
       "0                    login issue   \n",
       "1                        outlook   \n",
       "2             cant log in to vpn   \n",
       "3  unable to access hr_tool page   \n",
       "4                   skype error    \n",
       "\n",
       "                                         Description             Caller  \\\n",
       "0  -verified user details.(employee# & manager na...  spxjnwir pjlcoqds   \n",
       "1  _x000D_\\n_x000D_\\nreceived from: hmjdrvpb.komu...  hmjdrvpb komuaywn   \n",
       "2  _x000D_\\n_x000D_\\nreceived from: eylqgodm.ybqk...  eylqgodm ybqkwiam   \n",
       "3                      unable to access hr_tool page  xbkucsvz gcpydteq   \n",
       "4                                       skype error   owlgqjme qhcozdfx   \n",
       "\n",
       "  Assignment group  \n",
       "0            GRP_0  \n",
       "1            GRP_0  \n",
       "2            GRP_0  \n",
       "3            GRP_0  \n",
       "4            GRP_0  "
      ]
     },
     "execution_count": 7,
     "metadata": {},
     "output_type": "execute_result"
    }
   ],
   "source": [
    "data.head()"
   ]
  },
  {
   "cell_type": "code",
   "execution_count": 8,
   "id": "3d331674",
   "metadata": {
    "execution": {
     "iopub.execute_input": "2021-08-02T12:46:39.545525Z",
     "iopub.status.busy": "2021-08-02T12:46:39.544792Z",
     "iopub.status.idle": "2021-08-02T12:46:39.549957Z",
     "shell.execute_reply": "2021-08-02T12:46:39.550483Z",
     "shell.execute_reply.started": "2021-08-02T12:36:09.481698Z"
    },
    "id": "aYgY0Dv1nsQ6",
    "outputId": "56abfba7-c569-4d53-d30c-e9b391e7afa1",
    "papermill": {
     "duration": 0.086465,
     "end_time": "2021-08-02T12:46:39.550663",
     "exception": false,
     "start_time": "2021-08-02T12:46:39.464198",
     "status": "completed"
    },
    "tags": []
   },
   "outputs": [
    {
     "data": {
      "text/plain": [
       "array(['Short description', 'Description', 'Caller', 'Assignment group'],\n",
       "      dtype=object)"
      ]
     },
     "execution_count": 8,
     "metadata": {},
     "output_type": "execute_result"
    }
   ],
   "source": [
    "data.columns.values"
   ]
  },
  {
   "cell_type": "markdown",
   "id": "0655ce6c",
   "metadata": {
    "id": "C2yL8gyRpWFW",
    "papermill": {
     "duration": 0.077785,
     "end_time": "2021-08-02T12:46:39.706930",
     "exception": false,
     "start_time": "2021-08-02T12:46:39.629145",
     "status": "completed"
    },
    "tags": []
   },
   "source": [
    "There are four features.\n",
    "1. Short description - It is like the title of ticket.\n",
    "2. Description - Detailed description of the issue for which ticket is raised.\n",
    "3. Caller - The person who has raised the ticket\n",
    "4. Assignment Group - The function group to the the ticket is assigned. It is target variable."
   ]
  },
  {
   "cell_type": "code",
   "execution_count": 9,
   "id": "ba37f257",
   "metadata": {
    "execution": {
     "iopub.execute_input": "2021-08-02T12:46:39.866620Z",
     "iopub.status.busy": "2021-08-02T12:46:39.865757Z",
     "iopub.status.idle": "2021-08-02T12:46:39.871550Z",
     "shell.execute_reply": "2021-08-02T12:46:39.872117Z",
     "shell.execute_reply.started": "2021-08-02T12:36:09.494814Z"
    },
    "id": "6UHPeCUv4qah",
    "outputId": "cda8879a-81d9-4e08-b875-5f927d12223a",
    "papermill": {
     "duration": 0.08754,
     "end_time": "2021-08-02T12:46:39.872302",
     "exception": false,
     "start_time": "2021-08-02T12:46:39.784762",
     "status": "completed"
    },
    "tags": []
   },
   "outputs": [
    {
     "data": {
      "text/plain": [
       "(8500, 4)"
      ]
     },
     "execution_count": 9,
     "metadata": {},
     "output_type": "execute_result"
    }
   ],
   "source": [
    "data.shape"
   ]
  },
  {
   "cell_type": "markdown",
   "id": "ff108fd9",
   "metadata": {
    "id": "wZnEoWAH66UQ",
    "papermill": {
     "duration": 0.08022,
     "end_time": "2021-08-02T12:46:40.033602",
     "exception": false,
     "start_time": "2021-08-02T12:46:39.953382",
     "status": "completed"
    },
    "tags": []
   },
   "source": [
    "### Data description"
   ]
  },
  {
   "cell_type": "code",
   "execution_count": 10,
   "id": "f842a422",
   "metadata": {
    "execution": {
     "iopub.execute_input": "2021-08-02T12:46:40.197636Z",
     "iopub.status.busy": "2021-08-02T12:46:40.196912Z",
     "iopub.status.idle": "2021-08-02T12:46:40.256568Z",
     "shell.execute_reply": "2021-08-02T12:46:40.257056Z",
     "shell.execute_reply.started": "2021-08-02T12:36:09.510325Z"
    },
    "id": "LeAEXm1Gn0lC",
    "outputId": "0de1fc27-50d5-4319-98bb-a5f0be78a50a",
    "papermill": {
     "duration": 0.142305,
     "end_time": "2021-08-02T12:46:40.257295",
     "exception": false,
     "start_time": "2021-08-02T12:46:40.114990",
     "status": "completed"
    },
    "tags": []
   },
   "outputs": [
    {
     "data": {
      "text/html": [
       "<div>\n",
       "<style scoped>\n",
       "    .dataframe tbody tr th:only-of-type {\n",
       "        vertical-align: middle;\n",
       "    }\n",
       "\n",
       "    .dataframe tbody tr th {\n",
       "        vertical-align: top;\n",
       "    }\n",
       "\n",
       "    .dataframe thead th {\n",
       "        text-align: right;\n",
       "    }\n",
       "</style>\n",
       "<table border=\"1\" class=\"dataframe\">\n",
       "  <thead>\n",
       "    <tr style=\"text-align: right;\">\n",
       "      <th></th>\n",
       "      <th>Short description</th>\n",
       "      <th>Description</th>\n",
       "      <th>Caller</th>\n",
       "      <th>Assignment group</th>\n",
       "    </tr>\n",
       "  </thead>\n",
       "  <tbody>\n",
       "    <tr>\n",
       "      <th>count</th>\n",
       "      <td>8492</td>\n",
       "      <td>8499</td>\n",
       "      <td>8500</td>\n",
       "      <td>8500</td>\n",
       "    </tr>\n",
       "    <tr>\n",
       "      <th>unique</th>\n",
       "      <td>7481</td>\n",
       "      <td>7817</td>\n",
       "      <td>2950</td>\n",
       "      <td>74</td>\n",
       "    </tr>\n",
       "    <tr>\n",
       "      <th>top</th>\n",
       "      <td>password reset</td>\n",
       "      <td>the</td>\n",
       "      <td>bpctwhsn kzqsbmtp</td>\n",
       "      <td>GRP_0</td>\n",
       "    </tr>\n",
       "    <tr>\n",
       "      <th>freq</th>\n",
       "      <td>38</td>\n",
       "      <td>56</td>\n",
       "      <td>810</td>\n",
       "      <td>3976</td>\n",
       "    </tr>\n",
       "  </tbody>\n",
       "</table>\n",
       "</div>"
      ],
      "text/plain": [
       "       Short description Description             Caller Assignment group\n",
       "count               8492        8499               8500             8500\n",
       "unique              7481        7817               2950               74\n",
       "top       password reset         the  bpctwhsn kzqsbmtp            GRP_0\n",
       "freq                  38          56                810             3976"
      ]
     },
     "execution_count": 10,
     "metadata": {},
     "output_type": "execute_result"
    }
   ],
   "source": [
    "data.describe()"
   ]
  },
  {
   "cell_type": "markdown",
   "id": "d0e7e904",
   "metadata": {
    "id": "vXs7H0M04mdJ",
    "papermill": {
     "duration": 0.078864,
     "end_time": "2021-08-02T12:46:40.415006",
     "exception": false,
     "start_time": "2021-08-02T12:46:40.336142",
     "status": "completed"
    },
    "tags": []
   },
   "source": [
    "1. Dataset has 8500 rows and 4 columns.\n",
    "2. Text columns Short decription and description has some null values.\n",
    "3. There 74 unique groups to which tickets are assigned.\n",
    "4. Top most issue for which ticket is raised is regarding password reset.\n",
    "5. Caller bpctwhsn kzqsbmtp has raised most of the tickets.\n",
    "6. Most of he tickets are assigned to GRP_0"
   ]
  },
  {
   "cell_type": "markdown",
   "id": "58f8884e",
   "metadata": {
    "id": "KFk-N1NbNxy0",
    "papermill": {
     "duration": 0.07838,
     "end_time": "2021-08-02T12:46:40.572588",
     "exception": false,
     "start_time": "2021-08-02T12:46:40.494208",
     "status": "completed"
    },
    "tags": []
   },
   "source": [
    "### Remove Null values"
   ]
  },
  {
   "cell_type": "code",
   "execution_count": 11,
   "id": "fe18ed1f",
   "metadata": {
    "execution": {
     "iopub.execute_input": "2021-08-02T12:46:40.743387Z",
     "iopub.status.busy": "2021-08-02T12:46:40.742618Z",
     "iopub.status.idle": "2021-08-02T12:46:40.746915Z",
     "shell.execute_reply": "2021-08-02T12:46:40.746412Z",
     "shell.execute_reply.started": "2021-08-02T12:36:09.563783Z"
    },
    "id": "6Rg-spVfrpqw",
    "outputId": "77510629-4986-4b48-e378-7dec16555933",
    "papermill": {
     "duration": 0.096004,
     "end_time": "2021-08-02T12:46:40.747062",
     "exception": false,
     "start_time": "2021-08-02T12:46:40.651058",
     "status": "completed"
    },
    "tags": []
   },
   "outputs": [
    {
     "data": {
      "text/plain": [
       "Short description     True\n",
       "Description           True\n",
       "Caller               False\n",
       "Assignment group     False\n",
       "dtype: bool"
      ]
     },
     "execution_count": 11,
     "metadata": {},
     "output_type": "execute_result"
    }
   ],
   "source": [
    "data.isnull().any()"
   ]
  },
  {
   "cell_type": "code",
   "execution_count": 12,
   "id": "c3680872",
   "metadata": {
    "execution": {
     "iopub.execute_input": "2021-08-02T12:46:40.915687Z",
     "iopub.status.busy": "2021-08-02T12:46:40.914789Z",
     "iopub.status.idle": "2021-08-02T12:46:40.921284Z",
     "shell.execute_reply": "2021-08-02T12:46:40.920573Z",
     "shell.execute_reply.started": "2021-08-02T12:36:09.580123Z"
    },
    "id": "ZPlSGV0Sruvy",
    "papermill": {
     "duration": 0.095374,
     "end_time": "2021-08-02T12:46:40.921435",
     "exception": false,
     "start_time": "2021-08-02T12:46:40.826061",
     "status": "completed"
    },
    "tags": []
   },
   "outputs": [],
   "source": [
    "data = data.dropna(axis=0)"
   ]
  },
  {
   "cell_type": "code",
   "execution_count": 13,
   "id": "a4c95635",
   "metadata": {
    "execution": {
     "iopub.execute_input": "2021-08-02T12:46:41.088784Z",
     "iopub.status.busy": "2021-08-02T12:46:41.088096Z",
     "iopub.status.idle": "2021-08-02T12:46:41.090972Z",
     "shell.execute_reply": "2021-08-02T12:46:41.091482Z",
     "shell.execute_reply.started": "2021-08-02T12:36:09.601132Z"
    },
    "id": "9atRFg4Qr132",
    "outputId": "83c3e5b8-582b-4978-fe42-b2ac5c77825d",
    "papermill": {
     "duration": 0.088819,
     "end_time": "2021-08-02T12:46:41.091662",
     "exception": false,
     "start_time": "2021-08-02T12:46:41.002843",
     "status": "completed"
    },
    "tags": []
   },
   "outputs": [
    {
     "data": {
      "text/plain": [
       "(8491, 4)"
      ]
     },
     "execution_count": 13,
     "metadata": {},
     "output_type": "execute_result"
    }
   ],
   "source": [
    "data.shape"
   ]
  },
  {
   "cell_type": "markdown",
   "id": "9d781fbd",
   "metadata": {
    "id": "4mfkJUDa7RjL",
    "papermill": {
     "duration": 0.079991,
     "end_time": "2021-08-02T12:46:41.253557",
     "exception": false,
     "start_time": "2021-08-02T12:46:41.173566",
     "status": "completed"
    },
    "tags": []
   },
   "source": [
    "### Analyzing target variable"
   ]
  },
  {
   "cell_type": "code",
   "execution_count": 14,
   "id": "4d8cc54b",
   "metadata": {
    "execution": {
     "iopub.execute_input": "2021-08-02T12:46:41.423616Z",
     "iopub.status.busy": "2021-08-02T12:46:41.422918Z",
     "iopub.status.idle": "2021-08-02T12:46:41.433648Z",
     "shell.execute_reply": "2021-08-02T12:46:41.432959Z",
     "shell.execute_reply.started": "2021-08-02T12:36:09.610602Z"
    },
    "id": "0BDOL1lh7akw",
    "outputId": "88fd23e2-b502-4e3f-a083-8e95993dc1f2",
    "papermill": {
     "duration": 0.099781,
     "end_time": "2021-08-02T12:46:41.433794",
     "exception": false,
     "start_time": "2021-08-02T12:46:41.334013",
     "status": "completed"
    },
    "tags": []
   },
   "outputs": [
    {
     "data": {
      "text/plain": [
       "count      74.000000\n",
       "mean      114.743243\n",
       "std       464.840614\n",
       "min         1.000000\n",
       "25%         5.250000\n",
       "50%        26.000000\n",
       "75%        84.000000\n",
       "max      3968.000000\n",
       "Name: Assignment group, dtype: float64"
      ]
     },
     "execution_count": 14,
     "metadata": {},
     "output_type": "execute_result"
    }
   ],
   "source": [
    "target_class_count = data['Assignment group'].value_counts()\n",
    "target_class_count.describe()"
   ]
  },
  {
   "cell_type": "markdown",
   "id": "2c414217",
   "metadata": {
    "id": "oQ8bGC1n8eIS",
    "papermill": {
     "duration": 0.079486,
     "end_time": "2021-08-02T12:46:41.593591",
     "exception": false,
     "start_time": "2021-08-02T12:46:41.514105",
     "status": "completed"
    },
    "tags": []
   },
   "source": [
    "1. GRP_0 has 3968 tickets assigned to it.\n",
    "2. Around 50% of the groups have less than 26 tickets assigned to it."
   ]
  },
  {
   "cell_type": "code",
   "execution_count": 15,
   "id": "3903d76c",
   "metadata": {
    "execution": {
     "iopub.execute_input": "2021-08-02T12:46:41.778848Z",
     "iopub.status.busy": "2021-08-02T12:46:41.778161Z",
     "iopub.status.idle": "2021-08-02T12:46:43.181023Z",
     "shell.execute_reply": "2021-08-02T12:46:43.180305Z",
     "shell.execute_reply.started": "2021-08-02T12:36:09.635960Z"
    },
    "id": "lCS3sQKC1ekr",
    "outputId": "1968f13d-29f8-4cec-ff01-f05ad79e6c20",
    "papermill": {
     "duration": 1.507174,
     "end_time": "2021-08-02T12:46:43.181175",
     "exception": false,
     "start_time": "2021-08-02T12:46:41.674001",
     "status": "completed"
    },
    "tags": []
   },
   "outputs": [
    {
     "data": {
      "image/png": "[encoded data removed]",
      "text/plain": [
       "<Figure size 1584x360 with 1 Axes>"
      ]
     },
     "metadata": {
      "needs_background": "light"
     },
     "output_type": "display_data"
    }
   ],
   "source": [
    "target_dist = data['Assignment group'].value_counts().sort_values()\n",
    "\n",
    "my_colors = 'rgbkymc'\n",
    "plt.subplots(figsize=(22,5))\n",
    "target_dist.plot(kind='bar')\n",
    "plt.xlabel('Class')\n",
    "plt.ylabel('Data points per Class')\n",
    "plt.title('Distribution of yi in train data')\n",
    "plt.grid()\n",
    "plt.show()"
   ]
  },
  {
   "cell_type": "markdown",
   "id": "b0cb3b42",
   "metadata": {
    "id": "NzY8oTcqCCnQ",
    "papermill": {
     "duration": 0.081013,
     "end_time": "2021-08-02T12:46:43.344714",
     "exception": false,
     "start_time": "2021-08-02T12:46:43.263701",
     "status": "completed"
    },
    "tags": []
   },
   "source": [
    "1. Distribution of target class is skewed.\n",
    "2. Some groups have less than 10 tickets assigned to them.\n",
    "3. We can form a single group combining such groups.\n",
    "4. This will help us to reduce imbalance to some extent."
   ]
  },
  {
   "cell_type": "code",
   "execution_count": 16,
   "id": "f32dd4ef",
   "metadata": {
    "execution": {
     "iopub.execute_input": "2021-08-02T12:46:43.515740Z",
     "iopub.status.busy": "2021-08-02T12:46:43.515055Z",
     "iopub.status.idle": "2021-08-02T12:46:43.546931Z",
     "shell.execute_reply": "2021-08-02T12:46:43.547415Z",
     "shell.execute_reply.started": "2021-08-02T12:36:11.853607Z"
    },
    "id": "cB7KjwblLIlC",
    "outputId": "e5a0da6a-a2f5-4187-c8f3-5ebd437f0b52",
    "papermill": {
     "duration": 0.122221,
     "end_time": "2021-08-02T12:46:43.547598",
     "exception": false,
     "start_time": "2021-08-02T12:46:43.425377",
     "status": "completed"
    },
    "tags": []
   },
   "outputs": [
    {
     "name": "stdout",
     "output_type": "stream",
     "text": [
      "Found 25 groups which have under 10 samples\n"
     ]
    },
    {
     "data": {
      "text/plain": [
       "array(['GRP_0', 'GRP_1', 'GRP_3', 'GRP_4', 'GRP_5', 'GRP_6', 'GRP_7',\n",
       "       'GRP_8', 'GRP_9', 'GRP_10', 'GRP_11', 'GRP_12', 'GRP_13', 'GRP_14',\n",
       "       'GRP_15', 'GRP_16', 'GRP_17', 'GRP_18', 'GRP_19', 'GRP_2',\n",
       "       'GRP_20', 'GRP_21', 'GRP_22', 'GRP_23', 'GRP_24', 'GRP_25',\n",
       "       'GRP_26', 'GRP_27', 'GRP_28', 'GRP_29', 'GRP_30', 'GRP_31',\n",
       "       'GRP_33', 'GRP_34', 'misc_grp', 'GRP_36', 'GRP_37', 'GRP_39',\n",
       "       'GRP_40', 'GRP_41', 'GRP_42', 'GRP_44', 'GRP_45', 'GRP_47',\n",
       "       'GRP_48', 'GRP_50', 'GRP_53', 'GRP_60', 'GRP_62', 'GRP_65'],\n",
       "      dtype=object)"
      ]
     },
     "execution_count": 16,
     "metadata": {},
     "output_type": "execute_result"
    }
   ],
   "source": [
    "# Creating a single group of groups having less than 10 tickets assigned.\n",
    "sample = data.groupby(['Assignment group'])\n",
    "regroup=[]\n",
    "for grp in data['Assignment group'].unique():\n",
    "  if(sample.get_group(grp).shape[0]<10):\n",
    "    regroup.append(grp)\n",
    "print('Found {} groups which have under 10 samples'.format(len(regroup)))\n",
    "data['Assignment group']=data['Assignment group'].apply(lambda x : 'misc_grp' if x in regroup  else x)\n",
    "\n",
    "# Unique Groups check \n",
    "data['Assignment group'].unique()"
   ]
  },
  {
   "cell_type": "code",
   "execution_count": 17,
   "id": "a2e41b45",
   "metadata": {
    "execution": {
     "iopub.execute_input": "2021-08-02T12:46:43.719762Z",
     "iopub.status.busy": "2021-08-02T12:46:43.718692Z",
     "iopub.status.idle": "2021-08-02T12:46:43.723518Z",
     "shell.execute_reply": "2021-08-02T12:46:43.722859Z",
     "shell.execute_reply.started": "2021-08-02T12:36:11.895740Z"
    },
    "id": "4QUTk8faM0bU",
    "outputId": "dde61732-ce42-4297-db2e-e8431563ea2b",
    "papermill": {
     "duration": 0.093775,
     "end_time": "2021-08-02T12:46:43.723753",
     "exception": false,
     "start_time": "2021-08-02T12:46:43.629978",
     "status": "completed"
    },
    "tags": []
   },
   "outputs": [
    {
     "data": {
      "text/plain": [
       "50"
      ]
     },
     "execution_count": 17,
     "metadata": {},
     "output_type": "execute_result"
    }
   ],
   "source": [
    "len(data['Assignment group'].unique())"
   ]
  },
  {
   "cell_type": "markdown",
   "id": "18ce7a06",
   "metadata": {
    "id": "FWFIKLd_NmBR",
    "papermill": {
     "duration": 0.080865,
     "end_time": "2021-08-02T12:46:43.886067",
     "exception": false,
     "start_time": "2021-08-02T12:46:43.805202",
     "status": "completed"
    },
    "tags": []
   },
   "source": [
    " 1. Now there are 50 unique groups"
   ]
  },
  {
   "cell_type": "markdown",
   "id": "73a680fd",
   "metadata": {
    "id": "OVwPuF74C4JH",
    "papermill": {
     "duration": 0.082844,
     "end_time": "2021-08-02T12:46:44.052017",
     "exception": false,
     "start_time": "2021-08-02T12:46:43.969173",
     "status": "completed"
    },
    "tags": []
   },
   "source": [
    "### Remove caller feature"
   ]
  },
  {
   "cell_type": "code",
   "execution_count": 18,
   "id": "76cc625f",
   "metadata": {
    "execution": {
     "iopub.execute_input": "2021-08-02T12:46:44.225699Z",
     "iopub.status.busy": "2021-08-02T12:46:44.224591Z",
     "iopub.status.idle": "2021-08-02T12:46:44.228218Z",
     "shell.execute_reply": "2021-08-02T12:46:44.227550Z",
     "shell.execute_reply.started": "2021-08-02T12:36:11.906634Z"
    },
    "id": "YpYT-3OvCtuu",
    "papermill": {
     "duration": 0.0934,
     "end_time": "2021-08-02T12:46:44.228475",
     "exception": false,
     "start_time": "2021-08-02T12:46:44.135075",
     "status": "completed"
    },
    "tags": []
   },
   "outputs": [],
   "source": [
    "#data = data.drop(\"Caller\", axis=1)\n",
    "#data = data.drop(\"Short description\", axis=1)\n"
   ]
  },
  {
   "cell_type": "markdown",
   "id": "2b330548",
   "metadata": {
    "id": "EUXaepTsLtfA",
    "papermill": {
     "duration": 0.080978,
     "end_time": "2021-08-02T12:46:44.391693",
     "exception": false,
     "start_time": "2021-08-02T12:46:44.310715",
     "status": "completed"
    },
    "tags": []
   },
   "source": [
    "### Merge Short Description and Description"
   ]
  },
  {
   "cell_type": "code",
   "execution_count": 19,
   "id": "d10c3543",
   "metadata": {
    "execution": {
     "iopub.execute_input": "2021-08-02T12:46:44.571243Z",
     "iopub.status.busy": "2021-08-02T12:46:44.570208Z",
     "iopub.status.idle": "2021-08-02T12:46:44.573315Z",
     "shell.execute_reply": "2021-08-02T12:46:44.573772Z",
     "shell.execute_reply.started": "2021-08-02T12:36:11.921382Z"
    },
    "id": "zN8iJsrGLqVf",
    "papermill": {
     "duration": 0.101158,
     "end_time": "2021-08-02T12:46:44.573971",
     "exception": false,
     "start_time": "2021-08-02T12:46:44.472813",
     "status": "completed"
    },
    "tags": []
   },
   "outputs": [],
   "source": [
    "data['Description'] = data['Description'].str.cat(data['Short description'], sep =\" \")"
   ]
  },
  {
   "cell_type": "code",
   "execution_count": 20,
   "id": "65a74d52",
   "metadata": {
    "execution": {
     "iopub.execute_input": "2021-08-02T12:46:44.743582Z",
     "iopub.status.busy": "2021-08-02T12:46:44.742675Z",
     "iopub.status.idle": "2021-08-02T12:46:44.746147Z",
     "shell.execute_reply": "2021-08-02T12:46:44.745430Z",
     "shell.execute_reply.started": "2021-08-02T12:36:11.948960Z"
    },
    "id": "YvMCYshfMX_J",
    "papermill": {
     "duration": 0.091182,
     "end_time": "2021-08-02T12:46:44.746298",
     "exception": false,
     "start_time": "2021-08-02T12:46:44.655116",
     "status": "completed"
    },
    "tags": []
   },
   "outputs": [],
   "source": [
    "data = data.drop(\"Short description\", axis=1)"
   ]
  },
  {
   "cell_type": "markdown",
   "id": "00b2b20e",
   "metadata": {
    "id": "sVURUvZYCYmv",
    "papermill": {
     "duration": 0.082878,
     "end_time": "2021-08-02T12:46:44.911128",
     "exception": false,
     "start_time": "2021-08-02T12:46:44.828250",
     "status": "completed"
    },
    "tags": []
   },
   "source": [
    "### Data preprocessing"
   ]
  },
  {
   "cell_type": "markdown",
   "id": "941fb543",
   "metadata": {
    "id": "IGTteGCoeeDH",
    "papermill": {
     "duration": 0.083228,
     "end_time": "2021-08-02T12:46:45.076561",
     "exception": false,
     "start_time": "2021-08-02T12:46:44.993333",
     "status": "completed"
    },
    "tags": []
   },
   "source": [
    "#### Translation of German description to english"
   ]
  },
  {
   "cell_type": "code",
   "execution_count": 21,
   "id": "2a3fb6ca",
   "metadata": {
    "execution": {
     "iopub.execute_input": "2021-08-02T12:46:45.251248Z",
     "iopub.status.busy": "2021-08-02T12:46:45.250504Z",
     "iopub.status.idle": "2021-08-02T12:46:45.253852Z",
     "shell.execute_reply": "2021-08-02T12:46:45.254448Z",
     "shell.execute_reply.started": "2021-08-02T12:36:11.957823Z"
    },
    "id": "TO-EBv0Xecvt",
    "outputId": "18deca81-b41d-483c-f460-4b7e0f0e8196",
    "papermill": {
     "duration": 0.095846,
     "end_time": "2021-08-02T12:46:45.254630",
     "exception": false,
     "start_time": "2021-08-02T12:46:45.158784",
     "status": "completed"
    },
    "tags": []
   },
   "outputs": [
    {
     "data": {
      "text/plain": [
       "'bitte|nicht|konto|probleme|berechtigung|defekt|mehr|ausgetauscht|rechner|drucker|teilweise|freigegeben|genannten|anmeldeaccount|besprochen|werden|durchwahl|oben|einrichten|zeitwirtschaft|seit|morgens|beheben|keine|zeitbuchungen|vorhanden|dringend|fehler|werk|anmelde|auftrag|kein|skannen|freundlichen|werkzeuge,|hartstoffe|maste|schutzw|fertigung|immer|sehr|zugriff|freundliche|geehrter|souzarft|noch|verbindungsherstellung|meldung|erneuten|glich|proben|beilageproben|beilage|auswerten|sinterleitstand|reparar|reparo|rechner|koenigsee|entregar|atualiza|declara|programdntya|funcionando|preciso|hitacni|grergtger|zugriffsrechte|teamleiter|abholen|wegen|weit|absender|wenn|abrechnung'"
      ]
     },
     "execution_count": 21,
     "metadata": {},
     "output_type": "execute_result"
    }
   ],
   "source": [
    "germanwordlist = ['bitte','nicht','konto','probleme','berechtigung','defekt','mehr','ausgetauscht','rechner', 'drucker','teilweise','freigegeben','genannten','anmeldeaccount',\n",
    "                  'besprochen','werden','durchwahl','oben','einrichten','zeitwirtschaft','seit','morgens','beheben','keine','zeitbuchungen','vorhanden','dringend','fehler',\n",
    "                  'werk','anmelde','auftrag','kein','skannen','freundlichen','werkzeuge,','hartstoffe','maste','schutzw','fertigung','immer','sehr','zugriff','freundliche',\n",
    "                  'geehrter','souzarft','noch','verbindungsherstellung','meldung','erneuten','glich','proben','beilageproben','beilage','auswerten','sinterleitstand','reparar',\n",
    "                  'reparo','rechner','koenigsee','entregar','atualiza','declara','programdntya','funcionando','preciso','hitacni','grergtger','zugriffsrechte','teamleiter',\n",
    "                  'abholen','wegen','weit','absender','wenn','abrechnung']\n",
    "pattern = '|'.join(germanwordlist)\n",
    "\n",
    "pattern"
   ]
  },
  {
   "cell_type": "markdown",
   "id": "ff28bcb6",
   "metadata": {
    "id": "P1cVzVdUq1Pp",
    "papermill": {
     "duration": 0.081457,
     "end_time": "2021-08-02T12:46:45.418310",
     "exception": false,
     "start_time": "2021-08-02T12:46:45.336853",
     "status": "completed"
    },
    "tags": []
   },
   "source": [
    "#### Index positions having description in german"
   ]
  },
  {
   "cell_type": "code",
   "execution_count": 22,
   "id": "0d0cb4ff",
   "metadata": {
    "execution": {
     "iopub.execute_input": "2021-08-02T12:46:45.609204Z",
     "iopub.status.busy": "2021-08-02T12:46:45.598463Z",
     "iopub.status.idle": "2021-08-02T12:46:46.015164Z",
     "shell.execute_reply": "2021-08-02T12:46:46.015694Z",
     "shell.execute_reply.started": "2021-08-02T12:36:11.975941Z"
    },
    "id": "YX0z0HFoe53U",
    "outputId": "0c3a6eb7-1904-4280-cf4c-f7ebe8b281d6",
    "papermill": {
     "duration": 0.515383,
     "end_time": "2021-08-02T12:46:46.015893",
     "exception": false,
     "start_time": "2021-08-02T12:46:45.500510",
     "status": "completed"
    },
    "tags": []
   },
   "outputs": [
    {
     "data": {
      "text/plain": [
       "Int64Index([ 223,  238,  251,  255,  265,  270,  272,  302,  304,  305,\n",
       "            ...\n",
       "            8417, 8419, 8420, 8425, 8427, 8436, 8439, 8467, 8498, 8499],\n",
       "           dtype='int64', length=613)"
      ]
     },
     "execution_count": 22,
     "metadata": {},
     "output_type": "execute_result"
    }
   ],
   "source": [
    "germanDescIndex = data[data['Description'].str.contains(pattern)].index\n",
    "germanDescIndex"
   ]
  },
  {
   "cell_type": "code",
   "execution_count": 23,
   "id": "c379e590",
   "metadata": {
    "execution": {
     "iopub.execute_input": "2021-08-02T12:46:46.189348Z",
     "iopub.status.busy": "2021-08-02T12:46:46.188459Z",
     "iopub.status.idle": "2021-08-02T12:46:46.192459Z",
     "shell.execute_reply": "2021-08-02T12:46:46.193011Z",
     "shell.execute_reply.started": "2021-08-02T12:36:12.414802Z"
    },
    "id": "ulzQOh3xe_Dn",
    "outputId": "1911ec29-8dd4-4832-a78f-e70a812882db",
    "papermill": {
     "duration": 0.09507,
     "end_time": "2021-08-02T12:46:46.193189",
     "exception": false,
     "start_time": "2021-08-02T12:46:46.098119",
     "status": "completed"
    },
    "tags": []
   },
   "outputs": [
    {
     "data": {
      "text/plain": [
       "'hallo ,\\n\\nes ist erneut passiert. der pc hat sich zum wiederholten male aufgehÃ¤ngt und mir lediglich einen blauen bildschirm mit weisser schrift prÃ¤sentiert.\\n\\nwas kÃ¶nnen wir da machen?\\n\\n probleme mit bluescreen .'"
      ]
     },
     "execution_count": 23,
     "metadata": {},
     "output_type": "execute_result"
    }
   ],
   "source": [
    "# Before translation in english\n",
    "data['Description'][223]"
   ]
  },
  {
   "cell_type": "code",
   "execution_count": 24,
   "id": "60d86544",
   "metadata": {
    "execution": {
     "iopub.execute_input": "2021-08-02T12:46:46.371094Z",
     "iopub.status.busy": "2021-08-02T12:46:46.365103Z",
     "iopub.status.idle": "2021-08-02T12:46:58.880667Z",
     "shell.execute_reply": "2021-08-02T12:46:58.881296Z",
     "shell.execute_reply.started": "2021-08-02T12:36:12.422703Z"
    },
    "id": "pzqdlRULfFE1",
    "outputId": "fbe15e5b-a82f-49ec-9cbc-83f9449465c9",
    "papermill": {
     "duration": 12.606231,
     "end_time": "2021-08-02T12:46:58.881513",
     "exception": false,
     "start_time": "2021-08-02T12:46:46.275282",
     "status": "completed"
    },
    "tags": []
   },
   "outputs": [
    {
     "name": "stdout",
     "output_type": "stream",
     "text": [
      "\u001b[31mERROR: pip's dependency resolver does not currently take into account all the packages that are installed. This behaviour is the source of the following dependency conflicts.\n",
      "conda 4.9.2 requires ruamel_yaml>=0.11.14, which is not installed.\n",
      "jupyterlab-git 0.11.0 requires nbdime<2.0.0,>=1.1.0, but you have nbdime 3.1.0 which is incompatible.\n",
      "gcsfs 2021.6.0 requires fsspec==2021.06.0, but you have fsspec 2021.6.1 which is incompatible.\n",
      "earthengine-api 0.1.272 requires google-api-python-client<2,>=1.12.1, but you have google-api-python-client 1.8.0 which is incompatible.\n",
      "aiobotocore 1.3.1 requires botocore<1.20.50,>=1.20.49, but you have botocore 1.20.105 which is incompatible.\u001b[0m\n",
      "\u001b[33mWARNING: Running pip as root will break packages and permissions. You should install packages reliably by using venv: https://pip.pypa.io/warnings/venv\u001b[0m\n"
     ]
    }
   ],
   "source": [
    "# for translation of sentences to english.\n",
    "!pip install googletrans==3.1.0a0 -q\n",
    "from googletrans import Translator\n",
    "\n",
    "def translateIfRequired(x):\n",
    "    translator = Translator()\n",
    "    if translator.detect(x).lang != 'en':\n",
    "        translatedText = translator.translate(x).text\n",
    "    else:\n",
    "        translatedText = x\n",
    "    return translatedText"
   ]
  },
  {
   "cell_type": "code",
   "execution_count": 25,
   "id": "2d932a5f",
   "metadata": {
    "execution": {
     "iopub.execute_input": "2021-08-02T12:46:59.090048Z",
     "iopub.status.busy": "2021-08-02T12:46:59.089325Z",
     "iopub.status.idle": "2021-08-02T12:51:34.332447Z",
     "shell.execute_reply": "2021-08-02T12:51:34.333011Z",
     "shell.execute_reply.started": "2021-08-02T12:36:19.857647Z"
    },
    "id": "MPcPUiGDfOAo",
    "papermill": {
     "duration": 275.33554,
     "end_time": "2021-08-02T12:51:34.333221",
     "exception": false,
     "start_time": "2021-08-02T12:46:58.997681",
     "status": "completed"
    },
    "tags": []
   },
   "outputs": [],
   "source": [
    "for rowId in germanDescIndex:\n",
    "    data['Description'][rowId] = translateIfRequired(data['Description'][rowId])"
   ]
  },
  {
   "cell_type": "code",
   "execution_count": 26,
   "id": "8162e1c6",
   "metadata": {
    "execution": {
     "iopub.execute_input": "2021-08-02T12:51:34.558995Z",
     "iopub.status.busy": "2021-08-02T12:51:34.558227Z",
     "iopub.status.idle": "2021-08-02T12:51:34.560896Z",
     "shell.execute_reply": "2021-08-02T12:51:34.561362Z",
     "shell.execute_reply.started": "2021-08-02T12:40:45.495572Z"
    },
    "id": "olEtxI32fV7o",
    "outputId": "5f78126f-6e0c-4d03-becf-0c4b295e697f",
    "papermill": {
     "duration": 0.09054,
     "end_time": "2021-08-02T12:51:34.561535",
     "exception": false,
     "start_time": "2021-08-02T12:51:34.470995",
     "status": "completed"
    },
    "tags": []
   },
   "outputs": [
    {
     "data": {
      "text/plain": [
       "'Hello ,\\n\\nit happened again. the pc hung itself up again and again and only presented me with a blue screen with white letters.\\n\\nwhat can we do there?\\n\\n problems with bluescreen.'"
      ]
     },
     "execution_count": 26,
     "metadata": {},
     "output_type": "execute_result"
    }
   ],
   "source": [
    "#After translation in english\n",
    "data['Description'][223] "
   ]
  },
  {
   "cell_type": "code",
   "execution_count": 27,
   "id": "2430d0b9",
   "metadata": {
    "execution": {
     "iopub.execute_input": "2021-08-02T12:51:34.729078Z",
     "iopub.status.busy": "2021-08-02T12:51:34.728417Z",
     "iopub.status.idle": "2021-08-02T12:51:34.743392Z",
     "shell.execute_reply": "2021-08-02T12:51:34.742801Z",
     "shell.execute_reply.started": "2021-08-02T12:40:45.503888Z"
    },
    "id": "vDtXe9-Kk9Pl",
    "papermill": {
     "duration": 0.100122,
     "end_time": "2021-08-02T12:51:34.743546",
     "exception": false,
     "start_time": "2021-08-02T12:51:34.643424",
     "status": "completed"
    },
    "tags": []
   },
   "outputs": [],
   "source": [
    "# Store the translated file\n",
    "file = open('/tmp/data', 'wb')\n",
    "pickle.dump(data, file)"
   ]
  },
  {
   "cell_type": "code",
   "execution_count": 28,
   "id": "939f5289",
   "metadata": {
    "execution": {
     "iopub.execute_input": "2021-08-02T12:51:34.915037Z",
     "iopub.status.busy": "2021-08-02T12:51:34.913986Z",
     "iopub.status.idle": "2021-08-02T12:51:34.927817Z",
     "shell.execute_reply": "2021-08-02T12:51:34.928324Z",
     "shell.execute_reply.started": "2021-08-02T12:40:45.533649Z"
    },
    "id": "JyIjryaklXb1",
    "papermill": {
     "duration": 0.101704,
     "end_time": "2021-08-02T12:51:34.928523",
     "exception": false,
     "start_time": "2021-08-02T12:51:34.826819",
     "status": "completed"
    },
    "tags": []
   },
   "outputs": [],
   "source": [
    "file = open('/tmp/data', 'rb')\n",
    "data = pickle.load(file)"
   ]
  },
  {
   "cell_type": "code",
   "execution_count": 29,
   "id": "aa225c26",
   "metadata": {
    "execution": {
     "iopub.execute_input": "2021-08-02T12:51:35.100970Z",
     "iopub.status.busy": "2021-08-02T12:51:35.099972Z",
     "iopub.status.idle": "2021-08-02T12:51:35.113356Z",
     "shell.execute_reply": "2021-08-02T12:51:35.113804Z",
     "shell.execute_reply.started": "2021-08-02T12:40:45.575362Z"
    },
    "id": "J52qIt5Ar_pM",
    "outputId": "8dcadeb7-d938-4a60-e6bf-d88d6cb02904",
    "papermill": {
     "duration": 0.101462,
     "end_time": "2021-08-02T12:51:35.114017",
     "exception": false,
     "start_time": "2021-08-02T12:51:35.012555",
     "status": "completed"
    },
    "tags": []
   },
   "outputs": [
    {
     "data": {
      "text/html": [
       "<div>\n",
       "<style scoped>\n",
       "    .dataframe tbody tr th:only-of-type {\n",
       "        vertical-align: middle;\n",
       "    }\n",
       "\n",
       "    .dataframe tbody tr th {\n",
       "        vertical-align: top;\n",
       "    }\n",
       "\n",
       "    .dataframe thead th {\n",
       "        text-align: right;\n",
       "    }\n",
       "</style>\n",
       "<table border=\"1\" class=\"dataframe\">\n",
       "  <thead>\n",
       "    <tr style=\"text-align: right;\">\n",
       "      <th></th>\n",
       "      <th>Description</th>\n",
       "      <th>Caller</th>\n",
       "      <th>Assignment group</th>\n",
       "    </tr>\n",
       "  </thead>\n",
       "  <tbody>\n",
       "    <tr>\n",
       "      <th>0</th>\n",
       "      <td>-verified user details.(employee# &amp; manager na...</td>\n",
       "      <td>spxjnwir pjlcoqds</td>\n",
       "      <td>GRP_0</td>\n",
       "    </tr>\n",
       "    <tr>\n",
       "      <th>1</th>\n",
       "      <td>_x000D_\\n_x000D_\\nreceived from: hmjdrvpb.komu...</td>\n",
       "      <td>hmjdrvpb komuaywn</td>\n",
       "      <td>GRP_0</td>\n",
       "    </tr>\n",
       "    <tr>\n",
       "      <th>2</th>\n",
       "      <td>_x000D_\\n_x000D_\\nreceived from: eylqgodm.ybqk...</td>\n",
       "      <td>eylqgodm ybqkwiam</td>\n",
       "      <td>GRP_0</td>\n",
       "    </tr>\n",
       "    <tr>\n",
       "      <th>3</th>\n",
       "      <td>unable to access hr_tool page unable to access...</td>\n",
       "      <td>xbkucsvz gcpydteq</td>\n",
       "      <td>GRP_0</td>\n",
       "    </tr>\n",
       "    <tr>\n",
       "      <th>4</th>\n",
       "      <td>skype error  skype error</td>\n",
       "      <td>owlgqjme qhcozdfx</td>\n",
       "      <td>GRP_0</td>\n",
       "    </tr>\n",
       "    <tr>\n",
       "      <th>5</th>\n",
       "      <td>unable to log in to engineering tool and skype...</td>\n",
       "      <td>eflahbxn ltdgrvkz</td>\n",
       "      <td>GRP_0</td>\n",
       "    </tr>\n",
       "    <tr>\n",
       "      <th>6</th>\n",
       "      <td>event: critical:HostName_221.company.com the v...</td>\n",
       "      <td>jyoqwxhz clhxsoqy</td>\n",
       "      <td>GRP_1</td>\n",
       "    </tr>\n",
       "    <tr>\n",
       "      <th>7</th>\n",
       "      <td>ticket_no1550391- employment status - new non-...</td>\n",
       "      <td>eqzibjhw ymebpoih</td>\n",
       "      <td>GRP_0</td>\n",
       "    </tr>\n",
       "    <tr>\n",
       "      <th>8</th>\n",
       "      <td>unable to disable add ins on outlook unable to...</td>\n",
       "      <td>mdbegvct dbvichlg</td>\n",
       "      <td>GRP_0</td>\n",
       "    </tr>\n",
       "    <tr>\n",
       "      <th>9</th>\n",
       "      <td>ticket update on inplant_874773 ticket update ...</td>\n",
       "      <td>fumkcsji sarmtlhy</td>\n",
       "      <td>GRP_0</td>\n",
       "    </tr>\n",
       "  </tbody>\n",
       "</table>\n",
       "</div>"
      ],
      "text/plain": [
       "                                         Description             Caller  \\\n",
       "0  -verified user details.(employee# & manager na...  spxjnwir pjlcoqds   \n",
       "1  _x000D_\\n_x000D_\\nreceived from: hmjdrvpb.komu...  hmjdrvpb komuaywn   \n",
       "2  _x000D_\\n_x000D_\\nreceived from: eylqgodm.ybqk...  eylqgodm ybqkwiam   \n",
       "3  unable to access hr_tool page unable to access...  xbkucsvz gcpydteq   \n",
       "4                          skype error  skype error   owlgqjme qhcozdfx   \n",
       "5  unable to log in to engineering tool and skype...  eflahbxn ltdgrvkz   \n",
       "6  event: critical:HostName_221.company.com the v...  jyoqwxhz clhxsoqy   \n",
       "7  ticket_no1550391- employment status - new non-...  eqzibjhw ymebpoih   \n",
       "8  unable to disable add ins on outlook unable to...  mdbegvct dbvichlg   \n",
       "9  ticket update on inplant_874773 ticket update ...  fumkcsji sarmtlhy   \n",
       "\n",
       "  Assignment group  \n",
       "0            GRP_0  \n",
       "1            GRP_0  \n",
       "2            GRP_0  \n",
       "3            GRP_0  \n",
       "4            GRP_0  \n",
       "5            GRP_0  \n",
       "6            GRP_1  \n",
       "7            GRP_0  \n",
       "8            GRP_0  \n",
       "9            GRP_0  "
      ]
     },
     "execution_count": 29,
     "metadata": {},
     "output_type": "execute_result"
    }
   ],
   "source": [
    "data.head(10)"
   ]
  },
  {
   "cell_type": "markdown",
   "id": "0cbbb7f0",
   "metadata": {
    "id": "WKmrfO3OfYgK",
    "papermill": {
     "duration": 0.083102,
     "end_time": "2021-08-02T12:51:35.281909",
     "exception": false,
     "start_time": "2021-08-02T12:51:35.198807",
     "status": "completed"
    },
    "tags": []
   },
   "source": [
    "#### Remove stopwords"
   ]
  },
  {
   "cell_type": "code",
   "execution_count": 30,
   "id": "41b12522",
   "metadata": {
    "execution": {
     "iopub.execute_input": "2021-08-02T12:51:35.452727Z",
     "iopub.status.busy": "2021-08-02T12:51:35.451710Z",
     "iopub.status.idle": "2021-08-02T12:51:35.467634Z",
     "shell.execute_reply": "2021-08-02T12:51:35.468219Z",
     "shell.execute_reply.started": "2021-08-02T12:40:45.597239Z"
    },
    "id": "v0MZCNzbB_nW",
    "papermill": {
     "duration": 0.103458,
     "end_time": "2021-08-02T12:51:35.468408",
     "exception": false,
     "start_time": "2021-08-02T12:51:35.364950",
     "status": "completed"
    },
    "tags": []
   },
   "outputs": [],
   "source": [
    "stop_words = set(stopwords.words('english')).union(set(stopwords.words('german')))\n",
    "\n",
    "def text_preprocessing(total_text, index, column):\n",
    "  if type(total_text) is not int:\n",
    "        string = \"\"\n",
    "        #total_text = re.sub(r\"\\d{2}[-|/]\\d{2}[-|/]\\d{4}\", ' ', total_text)\n",
    "        #total_text = re.sub(r\"\\d{2}:\\d{2}:\\d{2}\", ' ', total_text)\n",
    "        #total_text = re.sub(r\"\\d{2}:\\d{2}\", ' ', total_text)\n",
    "        # replace every special char with space\n",
    "       \n",
    "        total_text = re.sub(r\"^[a-zA-Z0-9+_.-]+@[a-zA-Z0-9.-]+$\", ' ', total_text)\n",
    "        total_text = re.sub(r\"received from:\", ' ', total_text)\n",
    "        total_text = re.sub(r\"from:\", ' ', total_text)\n",
    "        total_text = re.sub(r\"to:\", ' ', total_text)\n",
    "        total_text = re.sub(r\"subject:\", ' ', total_text)\n",
    "        total_text = re.sub(r\"sent:\", ' ', total_text)\n",
    "        total_text = re.sub(r\"ic:\", ' ', total_text)\n",
    "        total_text = re.sub(r\"cc:\", ' ', total_text)\n",
    "        total_text = re.sub(r\"bcc:\", ' ', total_text)\n",
    "        total_text = re.sub(r\".com\", ' ', total_text)\n",
    "        total_text = re.sub('[^a-zA-Z\\n]', ' ', total_text)\n",
    "        total_text = re.sub('hi', ' ', total_text)\n",
    "        total_text = re.sub('hello', ' ', total_text)\n",
    "        \n",
    "        #total_text = re.sub(r\"\\Aat:\", ' ', total_text)\n",
    "\n",
    "        # replace multiple spaces with single space\n",
    "        total_text = re.sub('\\s+',' ', total_text)\n",
    "        # converting all the chars into lower-case.\n",
    "        total_text = total_text.lower()\n",
    "        \n",
    "        for word in total_text.split():\n",
    "        # if the word is a not a stop word then retain that word from the data\n",
    "            if not word in stop_words:\n",
    "                string += word + \" \"\n",
    "        \n",
    "        data[column][index] = string\n",
    "  \n",
    "\n",
    "    "
   ]
  },
  {
   "cell_type": "code",
   "execution_count": 31,
   "id": "ae4815bc",
   "metadata": {
    "execution": {
     "iopub.execute_input": "2021-08-02T12:51:35.642803Z",
     "iopub.status.busy": "2021-08-02T12:51:35.642152Z",
     "iopub.status.idle": "2021-08-02T12:51:38.894460Z",
     "shell.execute_reply": "2021-08-02T12:51:38.892732Z",
     "shell.execute_reply.started": "2021-08-02T12:40:45.611912Z"
    },
    "id": "gyRcA13IEIFN",
    "papermill": {
     "duration": 3.342494,
     "end_time": "2021-08-02T12:51:38.894629",
     "exception": false,
     "start_time": "2021-08-02T12:51:35.552135",
     "status": "completed"
    },
    "tags": []
   },
   "outputs": [],
   "source": [
    "for index, row in data.iterrows():\n",
    "    #if type(row['Description']) is str:\n",
    "    text_preprocessing(row['Description'], index, 'Description')\n",
    "    #else:\n",
    "    #print(\"there is no text description for id:\",index)"
   ]
  },
  {
   "cell_type": "code",
   "execution_count": 32,
   "id": "45b18188",
   "metadata": {
    "execution": {
     "iopub.execute_input": "2021-08-02T12:51:39.071268Z",
     "iopub.status.busy": "2021-08-02T12:51:39.070581Z",
     "iopub.status.idle": "2021-08-02T12:51:39.075437Z",
     "shell.execute_reply": "2021-08-02T12:51:39.074758Z",
     "shell.execute_reply.started": "2021-08-02T12:40:48.963690Z"
    },
    "id": "3v03enCYidsM",
    "outputId": "9c57719f-89dc-4647-9552-b380cfe2910c",
    "papermill": {
     "duration": 0.095933,
     "end_time": "2021-08-02T12:51:39.075592",
     "exception": false,
     "start_time": "2021-08-02T12:51:38.979659",
     "status": "completed"
    },
    "tags": []
   },
   "outputs": [
    {
     "data": {
      "text/plain": [
       "'monitoring tool pany x x job sid cold failed job scheduler job sid cold failed job scheduler '"
      ]
     },
     "execution_count": 32,
     "metadata": {},
     "output_type": "execute_result"
    }
   ],
   "source": [
    "data['Description'][90]"
   ]
  },
  {
   "cell_type": "markdown",
   "id": "b82aad7a",
   "metadata": {
    "id": "Im0z-0iszVcf",
    "papermill": {
     "duration": 0.083479,
     "end_time": "2021-08-02T12:51:39.244420",
     "exception": false,
     "start_time": "2021-08-02T12:51:39.160941",
     "status": "completed"
    },
    "tags": []
   },
   "source": [
    "#### Remove duplicate rows"
   ]
  },
  {
   "cell_type": "code",
   "execution_count": 33,
   "id": "5eab7054",
   "metadata": {
    "execution": {
     "iopub.execute_input": "2021-08-02T12:51:39.420205Z",
     "iopub.status.busy": "2021-08-02T12:51:39.419284Z",
     "iopub.status.idle": "2021-08-02T12:51:39.428661Z",
     "shell.execute_reply": "2021-08-02T12:51:39.428097Z",
     "shell.execute_reply.started": "2021-08-02T12:40:48.970855Z"
    },
    "id": "H4NHpm9v9zGL",
    "papermill": {
     "duration": 0.099843,
     "end_time": "2021-08-02T12:51:39.428818",
     "exception": false,
     "start_time": "2021-08-02T12:51:39.328975",
     "status": "completed"
    },
    "tags": []
   },
   "outputs": [],
   "source": [
    "data = data.drop_duplicates(\"Description\",keep='first')"
   ]
  },
  {
   "cell_type": "code",
   "execution_count": 34,
   "id": "cecfd3cf",
   "metadata": {
    "execution": {
     "iopub.execute_input": "2021-08-02T12:51:39.601675Z",
     "iopub.status.busy": "2021-08-02T12:51:39.600997Z",
     "iopub.status.idle": "2021-08-02T12:51:39.605673Z",
     "shell.execute_reply": "2021-08-02T12:51:39.606237Z",
     "shell.execute_reply.started": "2021-08-02T12:40:48.996746Z"
    },
    "id": "v_gSRX8B-G75",
    "outputId": "82005bb4-d8ee-4d22-fe1f-87f5273eb198",
    "papermill": {
     "duration": 0.093038,
     "end_time": "2021-08-02T12:51:39.606420",
     "exception": false,
     "start_time": "2021-08-02T12:51:39.513382",
     "status": "completed"
    },
    "tags": []
   },
   "outputs": [
    {
     "data": {
      "text/plain": [
       "(6716, 3)"
      ]
     },
     "execution_count": 34,
     "metadata": {},
     "output_type": "execute_result"
    }
   ],
   "source": [
    "data.shape"
   ]
  },
  {
   "cell_type": "code",
   "execution_count": 35,
   "id": "7f6dfe31",
   "metadata": {
    "execution": {
     "iopub.execute_input": "2021-08-02T12:51:39.779336Z",
     "iopub.status.busy": "2021-08-02T12:51:39.778654Z",
     "iopub.status.idle": "2021-08-02T12:51:39.785354Z",
     "shell.execute_reply": "2021-08-02T12:51:39.785848Z",
     "shell.execute_reply.started": "2021-08-02T12:40:49.005778Z"
    },
    "id": "Ny4cgBUf-hGM",
    "outputId": "2c9f0d78-cad1-4f7f-9196-c85db60916a6",
    "papermill": {
     "duration": 0.095357,
     "end_time": "2021-08-02T12:51:39.786067",
     "exception": false,
     "start_time": "2021-08-02T12:51:39.690710",
     "status": "completed"
    },
    "tags": []
   },
   "outputs": [
    {
     "data": {
      "text/plain": [
       "50"
      ]
     },
     "execution_count": 35,
     "metadata": {},
     "output_type": "execute_result"
    }
   ],
   "source": [
    "len(data['Assignment group'].unique())"
   ]
  },
  {
   "cell_type": "markdown",
   "id": "47efc7b2",
   "metadata": {
    "id": "WIOGvs_Eft7U",
    "papermill": {
     "duration": 0.085154,
     "end_time": "2021-08-02T12:51:39.957619",
     "exception": false,
     "start_time": "2021-08-02T12:51:39.872465",
     "status": "completed"
    },
    "tags": []
   },
   "source": [
    "#### Lemmatization"
   ]
  },
  {
   "cell_type": "code",
   "execution_count": 36,
   "id": "32a30178",
   "metadata": {
    "execution": {
     "iopub.execute_input": "2021-08-02T12:51:40.133472Z",
     "iopub.status.busy": "2021-08-02T12:51:40.132678Z",
     "iopub.status.idle": "2021-08-02T12:51:40.137739Z",
     "shell.execute_reply": "2021-08-02T12:51:40.138244Z",
     "shell.execute_reply.started": "2021-08-02T12:40:49.022766Z"
    },
    "id": "eyfSXA5dfsKD",
    "papermill": {
     "duration": 0.095794,
     "end_time": "2021-08-02T12:51:40.138428",
     "exception": false,
     "start_time": "2021-08-02T12:51:40.042634",
     "status": "completed"
    },
    "tags": []
   },
   "outputs": [],
   "source": [
    "lemmatizer = WordNetLemmatizer()\n",
    "def lematize(sentence):\n",
    "  a = []\n",
    "  tokens = nltk.word_tokenize(sentence)\n",
    "  for word in tokens:\n",
    "    #print (word)\n",
    "    s = lemmatizer.lemmatize(word)\n",
    "    #print(s)\n",
    "    a.append(s)\n",
    "    a.append(\" \")\n",
    "  new_sent = \" \".join(a)\n",
    "  return new_sent\n",
    "  #print(new_sent)\n",
    "  #data[column][index] = new_sent"
   ]
  },
  {
   "cell_type": "code",
   "execution_count": 37,
   "id": "74099081",
   "metadata": {
    "execution": {
     "iopub.execute_input": "2021-08-02T12:51:40.311358Z",
     "iopub.status.busy": "2021-08-02T12:51:40.310661Z",
     "iopub.status.idle": "2021-08-02T12:51:46.067290Z",
     "shell.execute_reply": "2021-08-02T12:51:46.067863Z",
     "shell.execute_reply.started": "2021-08-02T12:40:49.036881Z"
    },
    "id": "GH_OD2KuhJxQ",
    "papermill": {
     "duration": 5.844814,
     "end_time": "2021-08-02T12:51:46.068086",
     "exception": false,
     "start_time": "2021-08-02T12:51:40.223272",
     "status": "completed"
    },
    "tags": []
   },
   "outputs": [],
   "source": [
    "data['Description'] = data['Description'].apply(lematize)"
   ]
  },
  {
   "cell_type": "code",
   "execution_count": 38,
   "id": "cd63a564",
   "metadata": {
    "execution": {
     "iopub.execute_input": "2021-08-02T12:51:46.244112Z",
     "iopub.status.busy": "2021-08-02T12:51:46.243422Z",
     "iopub.status.idle": "2021-08-02T12:51:46.248775Z",
     "shell.execute_reply": "2021-08-02T12:51:46.249333Z",
     "shell.execute_reply.started": "2021-08-02T12:40:52.647663Z"
    },
    "id": "ei2VQYLiqgft",
    "outputId": "6f0b6993-c882-41ee-eb66-dffe3dc359f4",
    "papermill": {
     "duration": 0.094225,
     "end_time": "2021-08-02T12:51:46.249526",
     "exception": false,
     "start_time": "2021-08-02T12:51:46.155301",
     "status": "completed"
    },
    "tags": []
   },
   "outputs": [
    {
     "data": {
      "text/plain": [
       "'x   x   eylqgodm   ybqkwiam   gmail   x   x   x   x   can   not   log   vpn   x   x   best   cant   log   vpn  '"
      ]
     },
     "execution_count": 38,
     "metadata": {},
     "output_type": "execute_result"
    }
   ],
   "source": [
    "data['Description'][2]"
   ]
  },
  {
   "cell_type": "markdown",
   "id": "6aef993b",
   "metadata": {
    "id": "eOW2r9HPwWLh",
    "papermill": {
     "duration": 0.085028,
     "end_time": "2021-08-02T12:51:46.420522",
     "exception": false,
     "start_time": "2021-08-02T12:51:46.335494",
     "status": "completed"
    },
    "tags": []
   },
   "source": [
    "#### Remove callers name from Description."
   ]
  },
  {
   "cell_type": "markdown",
   "id": "c55870a5",
   "metadata": {
    "id": "fTAHRqkfwfrH",
    "papermill": {
     "duration": 0.085846,
     "end_time": "2021-08-02T12:51:46.592654",
     "exception": false,
     "start_time": "2021-08-02T12:51:46.506808",
     "status": "completed"
    },
    "tags": []
   },
   "source": [
    "Most of the descriptions contains the callers name. We can remove that from description as it wont add much value."
   ]
  },
  {
   "cell_type": "code",
   "execution_count": 39,
   "id": "202d075e",
   "metadata": {
    "execution": {
     "iopub.execute_input": "2021-08-02T12:51:46.768376Z",
     "iopub.status.busy": "2021-08-02T12:51:46.767704Z",
     "iopub.status.idle": "2021-08-02T12:51:46.771313Z",
     "shell.execute_reply": "2021-08-02T12:51:46.771778Z",
     "shell.execute_reply.started": "2021-08-02T12:40:52.656180Z"
    },
    "id": "aLjz_b8DGxxN",
    "papermill": {
     "duration": 0.093936,
     "end_time": "2021-08-02T12:51:46.771977",
     "exception": false,
     "start_time": "2021-08-02T12:51:46.678041",
     "status": "completed"
    },
    "tags": []
   },
   "outputs": [],
   "source": [
    "# get all the callers from column Caller\n",
    "callers = data['Caller'].values"
   ]
  },
  {
   "cell_type": "code",
   "execution_count": 40,
   "id": "f49fe379",
   "metadata": {
    "execution": {
     "iopub.execute_input": "2021-08-02T12:51:46.953334Z",
     "iopub.status.busy": "2021-08-02T12:51:46.952665Z",
     "iopub.status.idle": "2021-08-02T12:51:46.956024Z",
     "shell.execute_reply": "2021-08-02T12:51:46.955429Z",
     "shell.execute_reply.started": "2021-08-02T12:40:52.671499Z"
    },
    "id": "A1jDg_RKZmv-",
    "papermill": {
     "duration": 0.09924,
     "end_time": "2021-08-02T12:51:46.956169",
     "exception": false,
     "start_time": "2021-08-02T12:51:46.856929",
     "status": "completed"
    },
    "tags": []
   },
   "outputs": [],
   "source": [
    "# Split first name, last name and add them in one list\n",
    "l = []\n",
    "for i in callers:\n",
    "  l.append(i.split()[0])\n",
    "  l.append(i.split()[1])"
   ]
  },
  {
   "cell_type": "code",
   "execution_count": 41,
   "id": "b73746dc",
   "metadata": {
    "execution": {
     "iopub.execute_input": "2021-08-02T12:51:47.132943Z",
     "iopub.status.busy": "2021-08-02T12:51:47.132275Z",
     "iopub.status.idle": "2021-08-02T12:52:23.624851Z",
     "shell.execute_reply": "2021-08-02T12:52:23.625401Z",
     "shell.execute_reply.started": "2021-08-02T12:40:52.691797Z"
    },
    "id": "qlsXVSxzEwR9",
    "papermill": {
     "duration": 36.583523,
     "end_time": "2021-08-02T12:52:23.625611",
     "exception": false,
     "start_time": "2021-08-02T12:51:47.042088",
     "status": "completed"
    },
    "tags": []
   },
   "outputs": [],
   "source": [
    "# For each description check if the word is present in list l. Join the words that are not present in list l.\n",
    "data['Description'] = data['Description'].apply(lambda x : \" \".join([word for word in x.split() if word not in l]))"
   ]
  },
  {
   "cell_type": "code",
   "execution_count": 42,
   "id": "39ba6008",
   "metadata": {
    "execution": {
     "iopub.execute_input": "2021-08-02T12:52:23.802521Z",
     "iopub.status.busy": "2021-08-02T12:52:23.801686Z",
     "iopub.status.idle": "2021-08-02T12:52:23.805011Z",
     "shell.execute_reply": "2021-08-02T12:52:23.805483Z",
     "shell.execute_reply.started": "2021-08-02T12:41:29.207124Z"
    },
    "id": "yHs8xlryY_Xx",
    "outputId": "c597df70-79cd-4565-90e3-a74f1d2f5484",
    "papermill": {
     "duration": 0.094277,
     "end_time": "2021-08-02T12:52:23.805661",
     "exception": false,
     "start_time": "2021-08-02T12:52:23.711384",
     "status": "completed"
    },
    "tags": []
   },
   "outputs": [
    {
     "data": {
      "text/plain": [
       "'x x gmail x x x x can not log vpn x x best cant log vpn'"
      ]
     },
     "execution_count": 42,
     "metadata": {},
     "output_type": "execute_result"
    }
   ],
   "source": [
    "# After removing callers name.\n",
    "data['Description'][2]"
   ]
  },
  {
   "cell_type": "markdown",
   "id": "bc36c4fb",
   "metadata": {
    "id": "CInvbqY_vY2x",
    "papermill": {
     "duration": 0.084573,
     "end_time": "2021-08-02T12:52:23.975249",
     "exception": false,
     "start_time": "2021-08-02T12:52:23.890676",
     "status": "completed"
    },
    "tags": []
   },
   "source": [
    "#### Remove duplicate words from Description"
   ]
  },
  {
   "cell_type": "markdown",
   "id": "5690bfc1",
   "metadata": {
    "id": "Ct02U5hsxgyl",
    "papermill": {
     "duration": 0.08648,
     "end_time": "2021-08-02T12:52:24.150490",
     "exception": false,
     "start_time": "2021-08-02T12:52:24.064010",
     "status": "completed"
    },
    "tags": []
   },
   "source": [
    "As we have joined the short description and description, there are some duplicate words which should be removed."
   ]
  },
  {
   "cell_type": "code",
   "execution_count": 43,
   "id": "bef5c888",
   "metadata": {
    "execution": {
     "iopub.execute_input": "2021-08-02T12:52:24.326255Z",
     "iopub.status.busy": "2021-08-02T12:52:24.325272Z",
     "iopub.status.idle": "2021-08-02T12:52:24.331125Z",
     "shell.execute_reply": "2021-08-02T12:52:24.331617Z",
     "shell.execute_reply.started": "2021-08-02T12:41:29.215626Z"
    },
    "id": "vkZsZfyfu9kq",
    "papermill": {
     "duration": 0.094804,
     "end_time": "2021-08-02T12:52:24.331798",
     "exception": false,
     "start_time": "2021-08-02T12:52:24.236994",
     "status": "completed"
    },
    "tags": []
   },
   "outputs": [],
   "source": [
    "# Below function remove duplicate words from string\n",
    "# reference - https://www.geeksforgeeks.org/python-remove-duplicates-words-given-sentence/\n",
    "\n",
    "from collections import Counter\n",
    "  \n",
    "def remov_duplicates(input):\n",
    "  \n",
    "    # split input string separated by space\n",
    "    input = input.split(\" \")\n",
    "  \n",
    "    # joins two adjacent elements in iterable way\n",
    "    for i in range(0, len(input)):\n",
    "        input[i] = \"\".join(input[i])\n",
    "  \n",
    "    # now create dictionary using counter method\n",
    "    # which will have strings as key and their \n",
    "    # frequencies as value\n",
    "    UniqW = Counter(input)\n",
    "  \n",
    "    # joins two adjacent elements in iterable way\n",
    "    s = \" \".join(UniqW.keys())\n",
    "    return s"
   ]
  },
  {
   "cell_type": "code",
   "execution_count": 44,
   "id": "8596b442",
   "metadata": {
    "execution": {
     "iopub.execute_input": "2021-08-02T12:52:24.508709Z",
     "iopub.status.busy": "2021-08-02T12:52:24.507718Z",
     "iopub.status.idle": "2021-08-02T12:52:24.674637Z",
     "shell.execute_reply": "2021-08-02T12:52:24.673843Z",
     "shell.execute_reply.started": "2021-08-02T12:41:29.230591Z"
    },
    "id": "tkzQsLDtvBYB",
    "papermill": {
     "duration": 0.256375,
     "end_time": "2021-08-02T12:52:24.674827",
     "exception": false,
     "start_time": "2021-08-02T12:52:24.418452",
     "status": "completed"
    },
    "tags": []
   },
   "outputs": [],
   "source": [
    "data['Description'] = data['Description'].apply(remov_duplicates)"
   ]
  },
  {
   "cell_type": "markdown",
   "id": "771b326e",
   "metadata": {
    "id": "42ovc-4hyAkZ",
    "papermill": {
     "duration": 0.085412,
     "end_time": "2021-08-02T12:52:24.845658",
     "exception": false,
     "start_time": "2021-08-02T12:52:24.760246",
     "status": "completed"
    },
    "tags": []
   },
   "source": [
    "#### Word Cloud"
   ]
  },
  {
   "cell_type": "code",
   "execution_count": 45,
   "id": "b6c6223f",
   "metadata": {
    "execution": {
     "iopub.execute_input": "2021-08-02T12:52:25.024603Z",
     "iopub.status.busy": "2021-08-02T12:52:25.023955Z",
     "iopub.status.idle": "2021-08-02T12:52:25.027295Z",
     "shell.execute_reply": "2021-08-02T12:52:25.026644Z",
     "shell.execute_reply.started": "2021-08-02T12:41:29.414274Z"
    },
    "id": "nPM5bPJnRTmV",
    "papermill": {
     "duration": 0.09615,
     "end_time": "2021-08-02T12:52:25.027434",
     "exception": false,
     "start_time": "2021-08-02T12:52:24.931284",
     "status": "completed"
    },
    "tags": []
   },
   "outputs": [],
   "source": [
    "# Get all descriptions for tickets assigned to GRP_0\n",
    "grp_0 = data.loc[data['Assignment group'] == 'GRP_0']['Description']"
   ]
  },
  {
   "cell_type": "code",
   "execution_count": 46,
   "id": "f1aa05aa",
   "metadata": {
    "execution": {
     "iopub.execute_input": "2021-08-02T12:52:25.213468Z",
     "iopub.status.busy": "2021-08-02T12:52:25.208467Z",
     "iopub.status.idle": "2021-08-02T12:52:25.226222Z",
     "shell.execute_reply": "2021-08-02T12:52:25.226753Z",
     "shell.execute_reply.started": "2021-08-02T12:41:29.425868Z"
    },
    "id": "ZOsUJD34vncO",
    "papermill": {
     "duration": 0.113486,
     "end_time": "2021-08-02T12:52:25.226965",
     "exception": false,
     "start_time": "2021-08-02T12:52:25.113479",
     "status": "completed"
    },
    "tags": []
   },
   "outputs": [],
   "source": [
    "# Convert them in one string\n",
    "des_str = \" \"\n",
    "for sent in grp_0.values:\n",
    "   des_str = des_str + \" \" + sent"
   ]
  },
  {
   "cell_type": "code",
   "execution_count": 47,
   "id": "5921db57",
   "metadata": {
    "execution": {
     "iopub.execute_input": "2021-08-02T12:52:25.406075Z",
     "iopub.status.busy": "2021-08-02T12:52:25.405388Z",
     "iopub.status.idle": "2021-08-02T12:52:26.242265Z",
     "shell.execute_reply": "2021-08-02T12:52:26.242754Z",
     "shell.execute_reply.started": "2021-08-02T12:41:29.462199Z"
    },
    "id": "u1R7Rs9mG5o7",
    "outputId": "3c8607f0-9d3f-48fe-f09f-e62f790e447a",
    "papermill": {
     "duration": 0.926061,
     "end_time": "2021-08-02T12:52:26.242964",
     "exception": false,
     "start_time": "2021-08-02T12:52:25.316903",
     "status": "completed"
    },
    "tags": []
   },
   "outputs": [
    {
     "data": {
      "image/png": "[encoded data removed]",
      "text/plain": [
       "<Figure size 432x288 with 1 Axes>"
      ]
     },
     "metadata": {
      "needs_background": "light"
     },
     "output_type": "display_data"
    }
   ],
   "source": [
    "# Code to generate word cloud for GRP_0\n",
    "\n",
    "from PIL import Image\n",
    "from wordcloud import WordCloud, STOPWORDS, ImageColorGenerator\n",
    "\n",
    "import matplotlib.pyplot as plt\n",
    "\n",
    "# Create and generate a word cloud image:\n",
    "wordcloud = WordCloud().generate(des_str)\n",
    "\n",
    "# Display the generated image:\n",
    "plt.imshow(wordcloud, interpolation='bilinear')\n",
    "plt.axis(\"off\")\n",
    "plt.show()"
   ]
  },
  {
   "cell_type": "code",
   "execution_count": 48,
   "id": "af4f7540",
   "metadata": {
    "execution": {
     "iopub.execute_input": "2021-08-02T12:52:26.426751Z",
     "iopub.status.busy": "2021-08-02T12:52:26.425704Z",
     "iopub.status.idle": "2021-08-02T12:52:26.430187Z",
     "shell.execute_reply": "2021-08-02T12:52:26.429651Z",
     "shell.execute_reply.started": "2021-08-02T12:41:30.270813Z"
    },
    "id": "1RDHy8_iv1iV",
    "papermill": {
     "duration": 0.098584,
     "end_time": "2021-08-02T12:52:26.430326",
     "exception": false,
     "start_time": "2021-08-02T12:52:26.331742",
     "status": "completed"
    },
    "tags": []
   },
   "outputs": [],
   "source": [
    "# Get all descriptions for tickets assigned to groups other than GRP_0\n",
    "\n",
    "other = data.loc[data['Assignment group'] != 'GRP_0']['Description']"
   ]
  },
  {
   "cell_type": "code",
   "execution_count": 49,
   "id": "e3b32362",
   "metadata": {
    "execution": {
     "iopub.execute_input": "2021-08-02T12:52:26.631019Z",
     "iopub.status.busy": "2021-08-02T12:52:26.625595Z",
     "iopub.status.idle": "2021-08-02T12:52:26.657748Z",
     "shell.execute_reply": "2021-08-02T12:52:26.657075Z",
     "shell.execute_reply.started": "2021-08-02T12:41:30.281142Z"
    },
    "id": "-PimPYqPv6Sd",
    "papermill": {
     "duration": 0.138999,
     "end_time": "2021-08-02T12:52:26.657903",
     "exception": false,
     "start_time": "2021-08-02T12:52:26.518904",
     "status": "completed"
    },
    "tags": []
   },
   "outputs": [],
   "source": [
    "# Convert them in one string\n",
    "\n",
    "des_str_other = \" \"\n",
    "for sent in other.values:\n",
    "   des_str_other = des_str_other + \" \" + sent"
   ]
  },
  {
   "cell_type": "code",
   "execution_count": 50,
   "id": "7918ed71",
   "metadata": {
    "execution": {
     "iopub.execute_input": "2021-08-02T12:52:26.899589Z",
     "iopub.status.busy": "2021-08-02T12:52:26.894643Z",
     "iopub.status.idle": "2021-08-02T12:52:27.949671Z",
     "shell.execute_reply": "2021-08-02T12:52:27.950177Z",
     "shell.execute_reply.started": "2021-08-02T12:41:30.332815Z"
    },
    "id": "Zj4MtXoYIuw2",
    "outputId": "12dd99dc-08d5-424a-f857-b9b2abf33025",
    "papermill": {
     "duration": 1.203729,
     "end_time": "2021-08-02T12:52:27.950346",
     "exception": false,
     "start_time": "2021-08-02T12:52:26.746617",
     "status": "completed"
    },
    "tags": []
   },
   "outputs": [
    {
     "data": {
      "image/png": "[encoded data removed]",
      "text/plain": [
       "<Figure size 432x288 with 1 Axes>"
      ]
     },
     "metadata": {
      "needs_background": "light"
     },
     "output_type": "display_data"
    }
   ],
   "source": [
    "# Create and generate a word cloud image:\n",
    "wordcloud = WordCloud().generate(des_str_other)\n",
    "\n",
    "# Display the generated image:\n",
    "plt.imshow(wordcloud, interpolation='bilinear')\n",
    "plt.axis(\"off\")\n",
    "plt.show()"
   ]
  },
  {
   "cell_type": "markdown",
   "id": "03c8e8ad",
   "metadata": {
    "id": "W8if7-CX0Xwi",
    "papermill": {
     "duration": 0.091627,
     "end_time": "2021-08-02T12:52:28.134602",
     "exception": false,
     "start_time": "2021-08-02T12:52:28.042975",
     "status": "completed"
    },
    "tags": []
   },
   "source": [
    "1. From first word cloud it seems outlook and access related issues are assigned to GRP_0\n",
    "2. From second  word cloud it seems erp  related issues are not assigned to GRP_0"
   ]
  },
  {
   "cell_type": "markdown",
   "id": "c5228def",
   "metadata": {
    "id": "ga2LGRC9OHza",
    "papermill": {
     "duration": 0.093082,
     "end_time": "2021-08-02T12:52:28.318933",
     "exception": false,
     "start_time": "2021-08-02T12:52:28.225851",
     "status": "completed"
    },
    "tags": []
   },
   "source": [
    "### Store prerocessed data"
   ]
  },
  {
   "cell_type": "code",
   "execution_count": 51,
   "id": "7d7b37e1",
   "metadata": {
    "execution": {
     "iopub.execute_input": "2021-08-02T12:52:28.512255Z",
     "iopub.status.busy": "2021-08-02T12:52:28.511582Z",
     "iopub.status.idle": "2021-08-02T12:52:28.515147Z",
     "shell.execute_reply": "2021-08-02T12:52:28.515637Z",
     "shell.execute_reply.started": "2021-08-02T12:41:31.463307Z"
    },
    "id": "Z9r542FT1Lk_",
    "papermill": {
     "duration": 0.105431,
     "end_time": "2021-08-02T12:52:28.515803",
     "exception": false,
     "start_time": "2021-08-02T12:52:28.410372",
     "status": "completed"
    },
    "tags": []
   },
   "outputs": [],
   "source": [
    "file = open('/tmp/data_clean', 'wb')\n",
    "pickle.dump(data, file)"
   ]
  },
  {
   "cell_type": "markdown",
   "id": "f4052a5c",
   "metadata": {
    "id": "ky2jaWisOND2",
    "papermill": {
     "duration": 0.090948,
     "end_time": "2021-08-02T12:52:28.698217",
     "exception": false,
     "start_time": "2021-08-02T12:52:28.607269",
     "status": "completed"
    },
    "tags": []
   },
   "source": [
    "### Model 1 - GRP0 Vs Others"
   ]
  },
  {
   "cell_type": "code",
   "execution_count": 52,
   "id": "177a99f4",
   "metadata": {
    "execution": {
     "iopub.execute_input": "2021-08-02T12:52:28.885761Z",
     "iopub.status.busy": "2021-08-02T12:52:28.885117Z",
     "iopub.status.idle": "2021-08-02T12:52:28.898286Z",
     "shell.execute_reply": "2021-08-02T12:52:28.897517Z",
     "shell.execute_reply.started": "2021-08-02T12:41:31.477359Z"
    },
    "id": "_BlfFmrS2ZWz",
    "papermill": {
     "duration": 0.108391,
     "end_time": "2021-08-02T12:52:28.898440",
     "exception": false,
     "start_time": "2021-08-02T12:52:28.790049",
     "status": "completed"
    },
    "tags": []
   },
   "outputs": [],
   "source": [
    "file = open('/tmp/data_clean', 'rb')\n",
    "data_clean = pickle.load(file)"
   ]
  },
  {
   "cell_type": "markdown",
   "id": "aee37f62",
   "metadata": {
    "id": "M6X2PkS0Oy6y",
    "papermill": {
     "duration": 0.0935,
     "end_time": "2021-08-02T12:52:29.102154",
     "exception": false,
     "start_time": "2021-08-02T12:52:29.008654",
     "status": "completed"
    },
    "tags": []
   },
   "source": [
    "#### Data distribution"
   ]
  },
  {
   "cell_type": "code",
   "execution_count": 53,
   "id": "855862ec",
   "metadata": {
    "execution": {
     "iopub.execute_input": "2021-08-02T12:52:29.294761Z",
     "iopub.status.busy": "2021-08-02T12:52:29.294124Z",
     "iopub.status.idle": "2021-08-02T12:52:29.296029Z",
     "shell.execute_reply": "2021-08-02T12:52:29.296488Z",
     "shell.execute_reply.started": "2021-08-02T12:41:31.505667Z"
    },
    "id": "PSSPJZsMMasS",
    "papermill": {
     "duration": 0.101845,
     "end_time": "2021-08-02T12:52:29.296699",
     "exception": false,
     "start_time": "2021-08-02T12:52:29.194854",
     "status": "completed"
    },
    "tags": []
   },
   "outputs": [],
   "source": [
    "data_clean['Assignment group'] = data_clean['Assignment group'].apply(lambda x : 'others' if x != 'GRP_0' else x)"
   ]
  },
  {
   "cell_type": "code",
   "execution_count": 54,
   "id": "63f06ba9",
   "metadata": {
    "execution": {
     "iopub.execute_input": "2021-08-02T12:52:29.485123Z",
     "iopub.status.busy": "2021-08-02T12:52:29.484490Z",
     "iopub.status.idle": "2021-08-02T12:52:29.663171Z",
     "shell.execute_reply": "2021-08-02T12:52:29.662606Z",
     "shell.execute_reply.started": "2021-08-02T12:41:31.530024Z"
    },
    "id": "GiAoPRN2NYby",
    "outputId": "019fde9e-1863-41f4-feae-711c89cbaa61",
    "papermill": {
     "duration": 0.273699,
     "end_time": "2021-08-02T12:52:29.663311",
     "exception": false,
     "start_time": "2021-08-02T12:52:29.389612",
     "status": "completed"
    },
    "tags": []
   },
   "outputs": [
    {
     "data": {
      "image/png": "[encoded data removed]",
      "text/plain": [
       "<Figure size 432x288 with 1 Axes>"
      ]
     },
     "metadata": {},
     "output_type": "display_data"
    }
   ],
   "source": [
    "import seaborn as sns\n",
    "sns.set_theme(style=\"darkgrid\")\n",
    "ax = sns.countplot(x=\"Assignment group\", data=data_clean)"
   ]
  },
  {
   "cell_type": "markdown",
   "id": "f15b7634",
   "metadata": {
    "id": "_L-LZEUVmy6i",
    "papermill": {
     "duration": 0.092113,
     "end_time": "2021-08-02T12:52:29.847116",
     "exception": false,
     "start_time": "2021-08-02T12:52:29.755003",
     "status": "completed"
    },
    "tags": []
   },
   "source": [
    "#### Split data in training and testing data"
   ]
  },
  {
   "cell_type": "code",
   "execution_count": 55,
   "id": "1edfc1f0",
   "metadata": {
    "execution": {
     "iopub.execute_input": "2021-08-02T12:52:30.038381Z",
     "iopub.status.busy": "2021-08-02T12:52:30.037725Z",
     "iopub.status.idle": "2021-08-02T12:52:30.042099Z",
     "shell.execute_reply": "2021-08-02T12:52:30.041318Z",
     "shell.execute_reply.started": "2021-08-02T12:41:31.713871Z"
    },
    "id": "BKUMnx0KoqXr",
    "papermill": {
     "duration": 0.101909,
     "end_time": "2021-08-02T12:52:30.042276",
     "exception": false,
     "start_time": "2021-08-02T12:52:29.940367",
     "status": "completed"
    },
    "tags": []
   },
   "outputs": [],
   "source": [
    "X = data_clean['Description']\n",
    "Y = data_clean['Assignment group']"
   ]
  },
  {
   "cell_type": "code",
   "execution_count": 56,
   "id": "2dab3697",
   "metadata": {
    "execution": {
     "iopub.execute_input": "2021-08-02T12:52:30.237611Z",
     "iopub.status.busy": "2021-08-02T12:52:30.236969Z",
     "iopub.status.idle": "2021-08-02T12:52:30.239287Z",
     "shell.execute_reply": "2021-08-02T12:52:30.239740Z",
     "shell.execute_reply.started": "2021-08-02T12:41:31.722025Z"
    },
    "id": "DYDKxjzgyBwG",
    "papermill": {
     "duration": 0.102731,
     "end_time": "2021-08-02T12:52:30.239936",
     "exception": false,
     "start_time": "2021-08-02T12:52:30.137205",
     "status": "completed"
    },
    "tags": []
   },
   "outputs": [],
   "source": [
    "Y = Y.map({'GRP_0': 0, 'others':1})"
   ]
  },
  {
   "cell_type": "code",
   "execution_count": 57,
   "id": "9dbeb378",
   "metadata": {
    "execution": {
     "iopub.execute_input": "2021-08-02T12:52:30.430690Z",
     "iopub.status.busy": "2021-08-02T12:52:30.430085Z",
     "iopub.status.idle": "2021-08-02T12:52:30.440651Z",
     "shell.execute_reply": "2021-08-02T12:52:30.440075Z",
     "shell.execute_reply.started": "2021-08-02T12:41:31.739541Z"
    },
    "id": "Af5AT8_KmyFU",
    "papermill": {
     "duration": 0.108324,
     "end_time": "2021-08-02T12:52:30.440787",
     "exception": false,
     "start_time": "2021-08-02T12:52:30.332463",
     "status": "completed"
    },
    "tags": []
   },
   "outputs": [],
   "source": [
    "X_train, X_test, Y_train, Y_test = train_test_split(X, Y, random_state=1, test_size=0.25, stratify=Y, shuffle=True)"
   ]
  },
  {
   "cell_type": "code",
   "execution_count": 58,
   "id": "885feb56",
   "metadata": {
    "execution": {
     "iopub.execute_input": "2021-08-02T12:52:30.633484Z",
     "iopub.status.busy": "2021-08-02T12:52:30.632786Z",
     "iopub.status.idle": "2021-08-02T12:52:30.637137Z",
     "shell.execute_reply": "2021-08-02T12:52:30.636487Z",
     "shell.execute_reply.started": "2021-08-02T12:41:31.762641Z"
    },
    "id": "92uEjjyjndio",
    "outputId": "03e30a09-c6ac-4873-d77a-e2f454ac6bd0",
    "papermill": {
     "duration": 0.101666,
     "end_time": "2021-08-02T12:52:30.637281",
     "exception": false,
     "start_time": "2021-08-02T12:52:30.535615",
     "status": "completed"
    },
    "tags": []
   },
   "outputs": [
    {
     "data": {
      "text/plain": [
       "(5037,)"
      ]
     },
     "execution_count": 58,
     "metadata": {},
     "output_type": "execute_result"
    }
   ],
   "source": [
    "X_train.shape"
   ]
  },
  {
   "cell_type": "code",
   "execution_count": 59,
   "id": "ac6a5040",
   "metadata": {
    "execution": {
     "iopub.execute_input": "2021-08-02T12:52:30.827606Z",
     "iopub.status.busy": "2021-08-02T12:52:30.826769Z",
     "iopub.status.idle": "2021-08-02T12:52:30.830864Z",
     "shell.execute_reply": "2021-08-02T12:52:30.830279Z",
     "shell.execute_reply.started": "2021-08-02T12:41:31.771709Z"
    },
    "id": "y_GR22KJn6YS",
    "outputId": "736028b4-76c5-4813-f78f-e7626e83c484",
    "papermill": {
     "duration": 0.101226,
     "end_time": "2021-08-02T12:52:30.831058",
     "exception": false,
     "start_time": "2021-08-02T12:52:30.729832",
     "status": "completed"
    },
    "tags": []
   },
   "outputs": [
    {
     "data": {
      "text/plain": [
       "(1679,)"
      ]
     },
     "execution_count": 59,
     "metadata": {},
     "output_type": "execute_result"
    }
   ],
   "source": [
    "X_test.shape"
   ]
  },
  {
   "cell_type": "markdown",
   "id": "6b832b4c",
   "metadata": {
    "id": "uWfPcxM2rqL4",
    "papermill": {
     "duration": 0.092714,
     "end_time": "2021-08-02T12:52:31.020731",
     "exception": false,
     "start_time": "2021-08-02T12:52:30.928017",
     "status": "completed"
    },
    "tags": []
   },
   "source": [
    "#### Vectorization"
   ]
  },
  {
   "cell_type": "markdown",
   "id": "04623559",
   "metadata": {
    "id": "U1rh0dLJPIty",
    "papermill": {
     "duration": 0.094796,
     "end_time": "2021-08-02T12:52:31.209604",
     "exception": false,
     "start_time": "2021-08-02T12:52:31.114808",
     "status": "completed"
    },
    "tags": []
   },
   "source": [
    "##### TFIDF"
   ]
  },
  {
   "cell_type": "code",
   "execution_count": 60,
   "id": "f7d67d80",
   "metadata": {
    "execution": {
     "iopub.execute_input": "2021-08-02T12:52:31.434724Z",
     "iopub.status.busy": "2021-08-02T12:52:31.418911Z",
     "iopub.status.idle": "2021-08-02T12:52:31.686886Z",
     "shell.execute_reply": "2021-08-02T12:52:31.686252Z",
     "shell.execute_reply.started": "2021-08-02T12:41:31.786221Z"
    },
    "id": "C2IMy6g3pKxD",
    "outputId": "7d190f58-3eb4-4710-adc3-b8d64988af36",
    "papermill": {
     "duration": 0.384602,
     "end_time": "2021-08-02T12:52:31.687028",
     "exception": false,
     "start_time": "2021-08-02T12:52:31.302426",
     "status": "completed"
    },
    "tags": []
   },
   "outputs": [
    {
     "data": {
      "text/plain": [
       "TfidfVectorizer(max_df=0.3, min_df=10, ngram_range=(1, 2))"
      ]
     },
     "execution_count": 60,
     "metadata": {},
     "output_type": "execute_result"
    }
   ],
   "source": [
    "vectorizer = TfidfVectorizer(\n",
    "    analyzer=\"word\", max_df=0.3, min_df=10, ngram_range=(1, 2), norm=\"l2\"\n",
    ")\n",
    "vectorizer.fit(X_train)"
   ]
  },
  {
   "cell_type": "code",
   "execution_count": 61,
   "id": "2ae647b7",
   "metadata": {
    "execution": {
     "iopub.execute_input": "2021-08-02T12:52:31.922430Z",
     "iopub.status.busy": "2021-08-02T12:52:31.886282Z",
     "iopub.status.idle": "2021-08-02T12:52:32.147063Z",
     "shell.execute_reply": "2021-08-02T12:52:32.147523Z",
     "shell.execute_reply.started": "2021-08-02T12:41:32.088340Z"
    },
    "id": "78XTKukSpURD",
    "papermill": {
     "duration": 0.367194,
     "end_time": "2021-08-02T12:52:32.147723",
     "exception": false,
     "start_time": "2021-08-02T12:52:31.780529",
     "status": "completed"
    },
    "tags": []
   },
   "outputs": [],
   "source": [
    "x_train_tfidf = vectorizer.transform(X_train)\n",
    "x_test_tfidf = vectorizer.transform(X_test)"
   ]
  },
  {
   "cell_type": "code",
   "execution_count": 62,
   "id": "9773ccae",
   "metadata": {
    "execution": {
     "iopub.execute_input": "2021-08-02T12:52:32.340721Z",
     "iopub.status.busy": "2021-08-02T12:52:32.339815Z",
     "iopub.status.idle": "2021-08-02T12:52:32.344171Z",
     "shell.execute_reply": "2021-08-02T12:52:32.343645Z",
     "shell.execute_reply.started": "2021-08-02T12:41:32.373140Z"
    },
    "id": "ZZ6BLUBmrb8O",
    "outputId": "c82fc6be-f299-4cbb-aec2-9e148dfc5332",
    "papermill": {
     "duration": 0.102533,
     "end_time": "2021-08-02T12:52:32.344308",
     "exception": false,
     "start_time": "2021-08-02T12:52:32.241775",
     "status": "completed"
    },
    "tags": []
   },
   "outputs": [
    {
     "data": {
      "text/plain": [
       "(5037, 1909)"
      ]
     },
     "execution_count": 62,
     "metadata": {},
     "output_type": "execute_result"
    }
   ],
   "source": [
    "x_train_tfidf.shape"
   ]
  },
  {
   "cell_type": "code",
   "execution_count": 63,
   "id": "4e9c5c5e",
   "metadata": {
    "execution": {
     "iopub.execute_input": "2021-08-02T12:52:32.538415Z",
     "iopub.status.busy": "2021-08-02T12:52:32.537488Z",
     "iopub.status.idle": "2021-08-02T12:52:32.541677Z",
     "shell.execute_reply": "2021-08-02T12:52:32.541083Z",
     "shell.execute_reply.started": "2021-08-02T12:41:32.380018Z"
    },
    "id": "Yh2C0cw8rjWi",
    "outputId": "64636d67-02b6-4dee-e5a4-ea01720b4602",
    "papermill": {
     "duration": 0.103097,
     "end_time": "2021-08-02T12:52:32.541815",
     "exception": false,
     "start_time": "2021-08-02T12:52:32.438718",
     "status": "completed"
    },
    "tags": []
   },
   "outputs": [
    {
     "data": {
      "text/plain": [
       "(1679, 1909)"
      ]
     },
     "execution_count": 63,
     "metadata": {},
     "output_type": "execute_result"
    }
   ],
   "source": [
    "x_test_tfidf.shape"
   ]
  },
  {
   "cell_type": "markdown",
   "id": "756f0961",
   "metadata": {
    "id": "-YiIc8nPOpyh",
    "papermill": {
     "duration": 0.093895,
     "end_time": "2021-08-02T12:52:32.729486",
     "exception": false,
     "start_time": "2021-08-02T12:52:32.635591",
     "status": "completed"
    },
    "tags": []
   },
   "source": [
    "#### Modeling"
   ]
  },
  {
   "cell_type": "code",
   "execution_count": 64,
   "id": "796806f3",
   "metadata": {
    "execution": {
     "iopub.execute_input": "2021-08-02T12:52:32.930028Z",
     "iopub.status.busy": "2021-08-02T12:52:32.929111Z",
     "iopub.status.idle": "2021-08-02T12:52:32.932459Z",
     "shell.execute_reply": "2021-08-02T12:52:32.931938Z",
     "shell.execute_reply.started": "2021-08-02T12:41:32.396519Z"
    },
    "id": "JOVJFfH6P-q4",
    "papermill": {
     "duration": 0.10994,
     "end_time": "2021-08-02T12:52:32.932610",
     "exception": false,
     "start_time": "2021-08-02T12:52:32.822670",
     "status": "completed"
    },
    "tags": []
   },
   "outputs": [],
   "source": [
    "classifiers = [\n",
    "    LogisticRegression(solver=\"sag\", random_state=1),\n",
    "    LinearSVC(random_state=1),\n",
    "    RandomForestClassifier(random_state=1),\n",
    "    XGBClassifier(random_state=1),\n",
    "    MLPClassifier(\n",
    "        random_state=1,\n",
    "        solver=\"adam\",\n",
    "        hidden_layer_sizes=(12, 12, 12),\n",
    "        activation=\"relu\",\n",
    "        early_stopping=True,\n",
    "        n_iter_no_change=1,\n",
    "    ),\n",
    "]"
   ]
  },
  {
   "cell_type": "code",
   "execution_count": 65,
   "id": "40f2ee36",
   "metadata": {
    "execution": {
     "iopub.execute_input": "2021-08-02T12:52:33.127028Z",
     "iopub.status.busy": "2021-08-02T12:52:33.126092Z",
     "iopub.status.idle": "2021-08-02T12:52:33.129446Z",
     "shell.execute_reply": "2021-08-02T12:52:33.128765Z",
     "shell.execute_reply.started": "2021-08-02T12:41:32.413179Z"
    },
    "id": "4eqH5BbvQSZp",
    "papermill": {
     "duration": 0.103199,
     "end_time": "2021-08-02T12:52:33.129585",
     "exception": false,
     "start_time": "2021-08-02T12:52:33.026386",
     "status": "completed"
    },
    "tags": []
   },
   "outputs": [],
   "source": [
    "names =  ['LogisticRegression', 'LinearSVC', 'RandomForestClassifier', 'XGBClassifier', 'MLPClassifier']"
   ]
  },
  {
   "cell_type": "code",
   "execution_count": 66,
   "id": "19e1b83f",
   "metadata": {
    "execution": {
     "iopub.execute_input": "2021-08-02T12:52:33.323599Z",
     "iopub.status.busy": "2021-08-02T12:52:33.322951Z",
     "iopub.status.idle": "2021-08-02T12:52:39.475784Z",
     "shell.execute_reply": "2021-08-02T12:52:39.477552Z",
     "shell.execute_reply.started": "2021-08-02T12:41:32.428904Z"
    },
    "id": "uxbQvGfVQNLv",
    "outputId": "df0c200c-0e2a-4452-c9bd-e7ff83959a37",
    "papermill": {
     "duration": 6.254056,
     "end_time": "2021-08-02T12:52:39.478110",
     "exception": false,
     "start_time": "2021-08-02T12:52:33.224054",
     "status": "completed"
    },
    "tags": []
   },
   "outputs": [
    {
     "name": "stdout",
     "output_type": "stream",
     "text": [
      "Training classifier: LogisticRegression\n",
      "Training classifier: LinearSVC\n",
      "Training classifier: RandomForestClassifier\n",
      "Training classifier: XGBClassifier\n",
      "[12:52:37] WARNING: ../src/learner.cc:1095: Starting in XGBoost 1.3.0, the default evaluation metric used with the objective 'binary:logistic' was changed from 'error' to 'logloss'. Explicitly set eval_metric if you'd like to restore the old behavior.\n"
     ]
    },
    {
     "name": "stderr",
     "output_type": "stream",
     "text": [
      "/opt/conda/lib/python3.7/site-packages/xgboost/sklearn.py:1146: UserWarning: The use of label encoder in XGBClassifier is deprecated and will be removed in a future release. To remove this warning, do the following: 1) Pass option use_label_encoder=False when constructing XGBClassifier object; and 2) Encode your labels (y) as integers starting with 0, i.e. 0, 1, 2, ..., [num_class - 1].\n",
      "  warnings.warn(label_encoder_deprecation_msg, UserWarning)\n"
     ]
    },
    {
     "name": "stdout",
     "output_type": "stream",
     "text": [
      "Training classifier: MLPClassifier\n",
      "CPU times: user 11.8 s, sys: 1.53 s, total: 13.3 s\n",
      "Wall time: 6.15 s\n"
     ]
    }
   ],
   "source": [
    "%%time\n",
    "# test all classifiers and save pred. results on test data\n",
    "results = {}\n",
    "for name, clf in zip(names, classifiers):\n",
    "    print(f\"Training classifier: {name}\")\n",
    "    clf.fit(x_train_tfidf, Y_train)\n",
    "    prediction = clf.predict(x_test_tfidf)\n",
    "    report = sklearn.metrics.classification_report(Y_test, prediction)\n",
    "    #conf_mat = confusion_matrix(Y_test, prediction)\n",
    "    results[name] = report"
   ]
  },
  {
   "cell_type": "code",
   "execution_count": 67,
   "id": "729a3ecd",
   "metadata": {
    "execution": {
     "iopub.execute_input": "2021-08-02T12:52:39.727123Z",
     "iopub.status.busy": "2021-08-02T12:52:39.726354Z",
     "iopub.status.idle": "2021-08-02T12:52:39.730328Z",
     "shell.execute_reply": "2021-08-02T12:52:39.730774Z",
     "shell.execute_reply.started": "2021-08-02T12:41:38.394545Z"
    },
    "id": "js1PYGUNSw7Q",
    "outputId": "338cabc4-470a-40ff-ca73-66dc6e8a2012",
    "papermill": {
     "duration": 0.106419,
     "end_time": "2021-08-02T12:52:39.730967",
     "exception": false,
     "start_time": "2021-08-02T12:52:39.624548",
     "status": "completed"
    },
    "tags": []
   },
   "outputs": [
    {
     "name": "stdout",
     "output_type": "stream",
     "text": [
      "Results for LogisticRegression:\n",
      "              precision    recall  f1-score   support\n",
      "\n",
      "           0       0.82      0.79      0.80       782\n",
      "           1       0.82      0.85      0.83       897\n",
      "\n",
      "    accuracy                           0.82      1679\n",
      "   macro avg       0.82      0.82      0.82      1679\n",
      "weighted avg       0.82      0.82      0.82      1679\n",
      "\n",
      "\n",
      "Results for LinearSVC:\n",
      "              precision    recall  f1-score   support\n",
      "\n",
      "           0       0.80      0.78      0.79       782\n",
      "           1       0.81      0.83      0.82       897\n",
      "\n",
      "    accuracy                           0.81      1679\n",
      "   macro avg       0.81      0.80      0.81      1679\n",
      "weighted avg       0.81      0.81      0.81      1679\n",
      "\n",
      "\n",
      "Results for RandomForestClassifier:\n",
      "              precision    recall  f1-score   support\n",
      "\n",
      "           0       0.80      0.80      0.80       782\n",
      "           1       0.83      0.83      0.83       897\n",
      "\n",
      "    accuracy                           0.82      1679\n",
      "   macro avg       0.82      0.82      0.82      1679\n",
      "weighted avg       0.82      0.82      0.82      1679\n",
      "\n",
      "\n",
      "Results for XGBClassifier:\n",
      "              precision    recall  f1-score   support\n",
      "\n",
      "           0       0.81      0.77      0.79       782\n",
      "           1       0.81      0.85      0.83       897\n",
      "\n",
      "    accuracy                           0.81      1679\n",
      "   macro avg       0.81      0.81      0.81      1679\n",
      "weighted avg       0.81      0.81      0.81      1679\n",
      "\n",
      "\n",
      "Results for MLPClassifier:\n",
      "              precision    recall  f1-score   support\n",
      "\n",
      "           0       0.81      0.81      0.81       782\n",
      "           1       0.84      0.84      0.84       897\n",
      "\n",
      "    accuracy                           0.82      1679\n",
      "   macro avg       0.82      0.82      0.82      1679\n",
      "weighted avg       0.82      0.82      0.82      1679\n",
      "\n",
      "\n"
     ]
    }
   ],
   "source": [
    "# Prediction results\n",
    "for k, v in results.items():\n",
    "    print(f\"Results for {k}:\")\n",
    "    print(f\"{v}\\n\")\n"
   ]
  },
  {
   "cell_type": "code",
   "execution_count": 68,
   "id": "31c0e424",
   "metadata": {
    "execution": {
     "iopub.execute_input": "2021-08-02T12:52:39.942581Z",
     "iopub.status.busy": "2021-08-02T12:52:39.941612Z",
     "iopub.status.idle": "2021-08-02T12:53:00.309993Z",
     "shell.execute_reply": "2021-08-02T12:53:00.309092Z",
     "shell.execute_reply.started": "2021-08-02T12:41:38.410386Z"
    },
    "id": "-R1yGUSDZtKO",
    "outputId": "45b1acd5-7a6f-4b31-b4f9-1cf27d518307",
    "papermill": {
     "duration": 20.483973,
     "end_time": "2021-08-02T12:53:00.310153",
     "exception": false,
     "start_time": "2021-08-02T12:52:39.826180",
     "status": "completed"
    },
    "tags": []
   },
   "outputs": [
    {
     "data": {
      "text/plain": [
       "GridSearchCV(estimator=Pipeline(steps=[('tfidf', TfidfVectorizer()),\n",
       "                                       ('log_reg',\n",
       "                                        LogisticRegression(class_weight='balanced'))]),\n",
       "             n_jobs=-1,\n",
       "             param_grid={'tfidf__max_df': array([0.3, 0.5, 0.7]),\n",
       "                         'tfidf__min_df': array([ 5, 50, 95]),\n",
       "                         'tfidf__ngram_range': [(1, 1), (1, 2), (1, 3)]},\n",
       "             scoring='f1_macro')"
      ]
     },
     "execution_count": 68,
     "metadata": {},
     "output_type": "execute_result"
    }
   ],
   "source": [
    "# feature creation and modelling in a single function\n",
    "pipe = Pipeline([(\"tfidf\", TfidfVectorizer()), (\"log_reg\", LogisticRegression(class_weight='balanced'))])\n",
    "\n",
    "# define parameter space to test # runtime 35min\n",
    "params = {\n",
    "    \"tfidf__ngram_range\": [(1, 1), (1, 2), (1, 3)],\n",
    "    \"tfidf__max_df\": np.arange(0.3, 0.8, 0.2),\n",
    "    \"tfidf__min_df\": np.arange(5, 100, 45),\n",
    "}\n",
    "pipe_clf = GridSearchCV(pipe, params, n_jobs=-1, scoring=\"f1_macro\")\n",
    "pipe_clf.fit(X_train, Y_train)\n",
    "#pickle.dump(pipe_clf, open(\"./clf_pipe.pck\", \"wb\"))"
   ]
  },
  {
   "cell_type": "code",
   "execution_count": 69,
   "id": "d53458d9",
   "metadata": {
    "execution": {
     "iopub.execute_input": "2021-08-02T12:53:00.507391Z",
     "iopub.status.busy": "2021-08-02T12:53:00.506662Z",
     "iopub.status.idle": "2021-08-02T12:53:00.511540Z",
     "shell.execute_reply": "2021-08-02T12:53:00.510918Z",
     "shell.execute_reply.started": "2021-08-02T12:41:58.953994Z"
    },
    "id": "f1-Jt3MCaQSr",
    "outputId": "4da9ee64-83d6-4e02-a5de-56200bdd77d3",
    "papermill": {
     "duration": 0.105341,
     "end_time": "2021-08-02T12:53:00.511678",
     "exception": false,
     "start_time": "2021-08-02T12:53:00.406337",
     "status": "completed"
    },
    "tags": []
   },
   "outputs": [
    {
     "name": "stdout",
     "output_type": "stream",
     "text": [
      "{'tfidf__max_df': 0.3, 'tfidf__min_df': 5, 'tfidf__ngram_range': (1, 2)}\n"
     ]
    }
   ],
   "source": [
    "print(pipe_clf.best_params_)"
   ]
  },
  {
   "cell_type": "code",
   "execution_count": 70,
   "id": "569ce978",
   "metadata": {
    "execution": {
     "iopub.execute_input": "2021-08-02T12:53:00.715348Z",
     "iopub.status.busy": "2021-08-02T12:53:00.714517Z",
     "iopub.status.idle": "2021-08-02T12:53:03.959013Z",
     "shell.execute_reply": "2021-08-02T12:53:03.958344Z",
     "shell.execute_reply.started": "2021-08-02T12:41:58.961099Z"
    },
    "id": "PF0_DWLXadwW",
    "outputId": "06e5a7f3-d242-4604-c20f-82f7eed6ee3c",
    "papermill": {
     "duration": 3.349713,
     "end_time": "2021-08-02T12:53:03.959153",
     "exception": false,
     "start_time": "2021-08-02T12:53:00.609440",
     "status": "completed"
    },
    "tags": []
   },
   "outputs": [
    {
     "name": "stdout",
     "output_type": "stream",
     "text": [
      "CPU times: user 538 ms, sys: 19 ms, total: 557 ms\n",
      "Wall time: 3.22 s\n"
     ]
    },
    {
     "data": {
      "text/plain": [
       "GridSearchCV(estimator=Pipeline(steps=[('tfidf', TfidfVectorizer()),\n",
       "                                       ('logreg',\n",
       "                                        LogisticRegression(class_weight='balanced'))]),\n",
       "             n_jobs=-1,\n",
       "             param_grid={'logreg__C': [0.001, 0.1, 1, 10],\n",
       "                         'tfidf__max_df': [0.3], 'tfidf__min_df': [5],\n",
       "                         'tfidf__ngram_range': [(1, 2)]},\n",
       "             scoring='f1_macro')"
      ]
     },
     "execution_count": 70,
     "metadata": {},
     "output_type": "execute_result"
    }
   ],
   "source": [
    "%%time\n",
    "# feature creation and modelling in a single function\n",
    "pipe = Pipeline([(\"tfidf\", TfidfVectorizer()), (\"logreg\", LogisticRegression(class_weight='balanced'))])\n",
    "\n",
    "# define parameter space to test # runtime 19min\n",
    "params = {\n",
    "    \"tfidf__ngram_range\": [(1, 2)],\n",
    "    \"tfidf__max_df\": [0.3],\n",
    "    \"tfidf__min_df\": [5],\n",
    "    \"logreg__C\": [0.001, 0.1, 1, 10]\n",
    "}\n",
    "pipe_logreg_clf = GridSearchCV(pipe, params, n_jobs=-1, scoring=\"f1_macro\")\n",
    "pipe_logreg_clf.fit(X_train, Y_train)\n",
    "#pickle.dump(pipe_logreg_clf, open(\"/content/Model1.pkl\", \"wb\"))"
   ]
  },
  {
   "cell_type": "code",
   "execution_count": 71,
   "id": "addad1d7",
   "metadata": {
    "execution": {
     "iopub.execute_input": "2021-08-02T12:53:04.159634Z",
     "iopub.status.busy": "2021-08-02T12:53:04.158652Z",
     "iopub.status.idle": "2021-08-02T12:53:04.161716Z",
     "shell.execute_reply": "2021-08-02T12:53:04.162232Z",
     "shell.execute_reply.started": "2021-08-02T12:42:02.104350Z"
    },
    "id": "PnJwY9UkbLqn",
    "outputId": "9d8a64e0-4b60-4694-cba2-98b75c9d1610",
    "papermill": {
     "duration": 0.105706,
     "end_time": "2021-08-02T12:53:04.162402",
     "exception": false,
     "start_time": "2021-08-02T12:53:04.056696",
     "status": "completed"
    },
    "tags": []
   },
   "outputs": [
    {
     "name": "stdout",
     "output_type": "stream",
     "text": [
      "{'logreg__C': 1, 'tfidf__max_df': 0.3, 'tfidf__min_df': 5, 'tfidf__ngram_range': (1, 2)}\n"
     ]
    }
   ],
   "source": [
    "best_params = pipe_logreg_clf.best_params_\n",
    "print(best_params)"
   ]
  },
  {
   "cell_type": "code",
   "execution_count": 72,
   "id": "6ac3c9d0",
   "metadata": {
    "execution": {
     "iopub.execute_input": "2021-08-02T12:53:04.402832Z",
     "iopub.status.busy": "2021-08-02T12:53:04.397769Z",
     "iopub.status.idle": "2021-08-02T12:53:04.819141Z",
     "shell.execute_reply": "2021-08-02T12:53:04.819661Z",
     "shell.execute_reply.started": "2021-08-02T12:42:02.114245Z"
    },
    "id": "iu1UO58mbTYE",
    "outputId": "a5735f7c-5e78-4c56-94a5-44c6db6a30b7",
    "papermill": {
     "duration": 0.558418,
     "end_time": "2021-08-02T12:53:04.819837",
     "exception": false,
     "start_time": "2021-08-02T12:53:04.261419",
     "status": "completed"
    },
    "tags": []
   },
   "outputs": [
    {
     "name": "stdout",
     "output_type": "stream",
     "text": [
      "              precision    recall  f1-score   support\n",
      "\n",
      "           0       0.81      0.83      0.82       782\n",
      "           1       0.85      0.83      0.84       897\n",
      "\n",
      "    accuracy                           0.83      1679\n",
      "   macro avg       0.83      0.83      0.83      1679\n",
      "weighted avg       0.83      0.83      0.83      1679\n",
      "\n"
     ]
    }
   ],
   "source": [
    "# run pipe with optimized parameters\n",
    "pipe.set_params(**best_params).fit(X_train, Y_train)\n",
    "pipe_pred = pipe.predict(X_test)\n",
    "report = sklearn.metrics.classification_report(Y_test, pipe_pred)\n",
    "conf_mat = confusion_matrix(Y_test, pipe_pred)\n",
    "print(report)\n",
    "#print(conf_mat)"
   ]
  },
  {
   "cell_type": "markdown",
   "id": "804b8c2c",
   "metadata": {
    "id": "Uri18ex4Qg6f",
    "papermill": {
     "duration": 0.097129,
     "end_time": "2021-08-02T12:53:05.015724",
     "exception": false,
     "start_time": "2021-08-02T12:53:04.918595",
     "status": "completed"
    },
    "tags": []
   },
   "source": [
    "#### Store the model "
   ]
  },
  {
   "cell_type": "code",
   "execution_count": 73,
   "id": "48427c35",
   "metadata": {
    "execution": {
     "iopub.execute_input": "2021-08-02T12:53:05.217932Z",
     "iopub.status.busy": "2021-08-02T12:53:05.217237Z",
     "iopub.status.idle": "2021-08-02T12:53:05.239612Z",
     "shell.execute_reply": "2021-08-02T12:53:05.239067Z",
     "shell.execute_reply.started": "2021-08-02T12:42:02.589646Z"
    },
    "id": "OdM2Bef783-m",
    "papermill": {
     "duration": 0.124452,
     "end_time": "2021-08-02T12:53:05.239766",
     "exception": false,
     "start_time": "2021-08-02T12:53:05.115314",
     "status": "completed"
    },
    "tags": []
   },
   "outputs": [],
   "source": [
    "pickle.dump(pipe, open(\"/tmp/Model1.pkl\", \"wb\"))"
   ]
  }
 ],
 "metadata": {
  "kernelspec": {
   "display_name": "Python 3",
   "language": "python",
   "name": "python3"
  },
  "language_info": {
   "codemirror_mode": {
    "name": "ipython",
    "version": 3
   },
   "file_extension": ".py",
   "mimetype": "text/x-python",
   "name": "python",
   "nbconvert_exporter": "python",
   "pygments_lexer": "ipython3",
   "version": "3.8.8"
  },
  "papermill": {
   "default_parameters": {},
   "duration": 424.33585,
   "end_time": "2021-08-02T12:53:10.219083",
   "environment_variables": {},
   "exception": null,
   "input_path": "__notebook__.ipynb",
   "output_path": "__notebook__.ipynb",
   "parameters": {},
   "start_time": "2021-08-02T12:46:05.883233",
   "version": "2.3.3"
  }
 },
 "nbformat": 4,
 "nbformat_minor": 5
}
